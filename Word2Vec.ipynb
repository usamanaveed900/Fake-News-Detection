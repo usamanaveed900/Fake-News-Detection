{
 "cells": [
  {
   "cell_type": "code",
   "execution_count": 1,
   "metadata": {},
   "outputs": [],
   "source": [
    "# Libraries\n",
    "import io\n",
    "import string\n",
    "import re\n",
    "import random\n",
    "\n",
    "import pandas as pd\n",
    "import numpy as np\n",
    "from collections import Counter\n",
    "\n",
    "# nltk:- Natural Language Processing Toolkit\n",
    "import nltk \n",
    "from nltk.corpus import stopwords\n",
    "from nltk.stem import PorterStemmer\n",
    "from nltk.stem.wordnet import WordNetLemmatizer\n",
    "from nltk.stem import SnowballStemmer\n",
    "\n",
    "# For loading Word2Vec Model\n",
    "from gensim.models import KeyedVectors\n",
    "\n",
    "from sklearn import preprocessing\n",
    "\n",
    "# spliting data into train and test\n",
    "from sklearn.model_selection import train_test_split\n",
    "# Training Models\n",
    "from sklearn import model_selection, svm\n",
    "from sklearn.ensemble import RandomForestClassifier\n",
    "# For Results\n",
    "from sklearn.metrics import classification_report ,accuracy_score"
   ]
  },
  {
   "cell_type": "markdown",
   "metadata": {},
   "source": [
    "# Loading Dataset"
   ]
  },
  {
   "cell_type": "code",
   "execution_count": 2,
   "metadata": {},
   "outputs": [],
   "source": [
    "df = pd.read_csv('./Data/Dataset.csv', engine='python')"
   ]
  },
  {
   "cell_type": "code",
   "execution_count": 3,
   "metadata": {},
   "outputs": [
    {
     "data": {
      "text/html": [
       "<div>\n",
       "<style scoped>\n",
       "    .dataframe tbody tr th:only-of-type {\n",
       "        vertical-align: middle;\n",
       "    }\n",
       "\n",
       "    .dataframe tbody tr th {\n",
       "        vertical-align: top;\n",
       "    }\n",
       "\n",
       "    .dataframe thead th {\n",
       "        text-align: right;\n",
       "    }\n",
       "</style>\n",
       "<table border=\"1\" class=\"dataframe\">\n",
       "  <thead>\n",
       "    <tr style=\"text-align: right;\">\n",
       "      <th></th>\n",
       "      <th>URLs</th>\n",
       "      <th>Headline</th>\n",
       "      <th>Body</th>\n",
       "      <th>Label</th>\n",
       "    </tr>\n",
       "  </thead>\n",
       "  <tbody>\n",
       "    <tr>\n",
       "      <th>0</th>\n",
       "      <td>http://www.bbc.com</td>\n",
       "      <td>Four ways Bob Corker skewered Donald Trump</td>\n",
       "      <td>Image copyright Getty Images\\nOn Sunday mornin...</td>\n",
       "      <td>1</td>\n",
       "    </tr>\n",
       "    <tr>\n",
       "      <th>1</th>\n",
       "      <td>https://www.reuters.com</td>\n",
       "      <td>Linklater's war veteran comedy speaks to moder...</td>\n",
       "      <td>LONDON (Reuters) - ?Last Flag Flying?, a comed...</td>\n",
       "      <td>1</td>\n",
       "    </tr>\n",
       "    <tr>\n",
       "      <th>2</th>\n",
       "      <td>https://www.nytimes.com</td>\n",
       "      <td>Trump?s Fight With Corker Jeopardizes His Legi...</td>\n",
       "      <td>The feud broke into public view last week when...</td>\n",
       "      <td>1</td>\n",
       "    </tr>\n",
       "    <tr>\n",
       "      <th>3</th>\n",
       "      <td>https://www.reuters.com</td>\n",
       "      <td>Egypt's Cheiron wins tie-up with Pemex for Mex...</td>\n",
       "      <td>MEXICO CITY (Reuters) - Egypt?s Cheiron Holdin...</td>\n",
       "      <td>1</td>\n",
       "    </tr>\n",
       "    <tr>\n",
       "      <th>4</th>\n",
       "      <td>http://www.cnn.com</td>\n",
       "      <td>Jason Aldean opens 'SNL' with Vegas tribute</td>\n",
       "      <td>Country singer Jason Aldean, who was performin...</td>\n",
       "      <td>1</td>\n",
       "    </tr>\n",
       "  </tbody>\n",
       "</table>\n",
       "</div>"
      ],
      "text/plain": [
       "                      URLs                                           Headline  \\\n",
       "0       http://www.bbc.com         Four ways Bob Corker skewered Donald Trump   \n",
       "1  https://www.reuters.com  Linklater's war veteran comedy speaks to moder...   \n",
       "2  https://www.nytimes.com  Trump?s Fight With Corker Jeopardizes His Legi...   \n",
       "3  https://www.reuters.com  Egypt's Cheiron wins tie-up with Pemex for Mex...   \n",
       "4       http://www.cnn.com        Jason Aldean opens 'SNL' with Vegas tribute   \n",
       "\n",
       "                                                Body  Label  \n",
       "0  Image copyright Getty Images\\nOn Sunday mornin...      1  \n",
       "1  LONDON (Reuters) - ?Last Flag Flying?, a comed...      1  \n",
       "2  The feud broke into public view last week when...      1  \n",
       "3  MEXICO CITY (Reuters) - Egypt?s Cheiron Holdin...      1  \n",
       "4  Country singer Jason Aldean, who was performin...      1  "
      ]
     },
     "execution_count": 3,
     "metadata": {},
     "output_type": "execute_result"
    }
   ],
   "source": [
    "df.head()"
   ]
  },
  {
   "cell_type": "code",
   "execution_count": 4,
   "metadata": {},
   "outputs": [
    {
     "data": {
      "text/html": [
       "<div>\n",
       "<style scoped>\n",
       "    .dataframe tbody tr th:only-of-type {\n",
       "        vertical-align: middle;\n",
       "    }\n",
       "\n",
       "    .dataframe tbody tr th {\n",
       "        vertical-align: top;\n",
       "    }\n",
       "\n",
       "    .dataframe thead th {\n",
       "        text-align: right;\n",
       "    }\n",
       "</style>\n",
       "<table border=\"1\" class=\"dataframe\">\n",
       "  <thead>\n",
       "    <tr style=\"text-align: right;\">\n",
       "      <th></th>\n",
       "      <th>Label</th>\n",
       "    </tr>\n",
       "  </thead>\n",
       "  <tbody>\n",
       "    <tr>\n",
       "      <th>count</th>\n",
       "      <td>3678.000000</td>\n",
       "    </tr>\n",
       "    <tr>\n",
       "      <th>mean</th>\n",
       "      <td>0.473083</td>\n",
       "    </tr>\n",
       "    <tr>\n",
       "      <th>std</th>\n",
       "      <td>0.499343</td>\n",
       "    </tr>\n",
       "    <tr>\n",
       "      <th>min</th>\n",
       "      <td>0.000000</td>\n",
       "    </tr>\n",
       "    <tr>\n",
       "      <th>25%</th>\n",
       "      <td>0.000000</td>\n",
       "    </tr>\n",
       "    <tr>\n",
       "      <th>50%</th>\n",
       "      <td>0.000000</td>\n",
       "    </tr>\n",
       "    <tr>\n",
       "      <th>75%</th>\n",
       "      <td>1.000000</td>\n",
       "    </tr>\n",
       "    <tr>\n",
       "      <th>max</th>\n",
       "      <td>1.000000</td>\n",
       "    </tr>\n",
       "  </tbody>\n",
       "</table>\n",
       "</div>"
      ],
      "text/plain": [
       "             Label\n",
       "count  3678.000000\n",
       "mean      0.473083\n",
       "std       0.499343\n",
       "min       0.000000\n",
       "25%       0.000000\n",
       "50%       0.000000\n",
       "75%       1.000000\n",
       "max       1.000000"
      ]
     },
     "execution_count": 4,
     "metadata": {},
     "output_type": "execute_result"
    }
   ],
   "source": [
    "df.describe()"
   ]
  },
  {
   "cell_type": "code",
   "execution_count": 5,
   "metadata": {},
   "outputs": [
    {
     "data": {
      "text/plain": [
       "(3678, 4)"
      ]
     },
     "execution_count": 5,
     "metadata": {},
     "output_type": "execute_result"
    }
   ],
   "source": [
    "df.shape"
   ]
  },
  {
   "cell_type": "code",
   "execution_count": 6,
   "metadata": {},
   "outputs": [],
   "source": [
    "df_sources = df[['URLs','Body','Label']]"
   ]
  },
  {
   "cell_type": "code",
   "execution_count": 7,
   "metadata": {},
   "outputs": [
    {
     "data": {
      "text/html": [
       "<div>\n",
       "<style scoped>\n",
       "    .dataframe tbody tr th:only-of-type {\n",
       "        vertical-align: middle;\n",
       "    }\n",
       "\n",
       "    .dataframe tbody tr th {\n",
       "        vertical-align: top;\n",
       "    }\n",
       "\n",
       "    .dataframe thead th {\n",
       "        text-align: right;\n",
       "    }\n",
       "</style>\n",
       "<table border=\"1\" class=\"dataframe\">\n",
       "  <thead>\n",
       "    <tr style=\"text-align: right;\">\n",
       "      <th></th>\n",
       "      <th>URLs</th>\n",
       "      <th>Body</th>\n",
       "      <th>Label</th>\n",
       "    </tr>\n",
       "  </thead>\n",
       "  <tbody>\n",
       "    <tr>\n",
       "      <th>0</th>\n",
       "      <td>http://www.bbc.com</td>\n",
       "      <td>Image copyright Getty Images\\nOn Sunday mornin...</td>\n",
       "      <td>1</td>\n",
       "    </tr>\n",
       "    <tr>\n",
       "      <th>1</th>\n",
       "      <td>https://www.reuters.com</td>\n",
       "      <td>LONDON (Reuters) - ?Last Flag Flying?, a comed...</td>\n",
       "      <td>1</td>\n",
       "    </tr>\n",
       "    <tr>\n",
       "      <th>2</th>\n",
       "      <td>https://www.nytimes.com</td>\n",
       "      <td>The feud broke into public view last week when...</td>\n",
       "      <td>1</td>\n",
       "    </tr>\n",
       "    <tr>\n",
       "      <th>3</th>\n",
       "      <td>https://www.reuters.com</td>\n",
       "      <td>MEXICO CITY (Reuters) - Egypt?s Cheiron Holdin...</td>\n",
       "      <td>1</td>\n",
       "    </tr>\n",
       "    <tr>\n",
       "      <th>4</th>\n",
       "      <td>http://www.cnn.com</td>\n",
       "      <td>Country singer Jason Aldean, who was performin...</td>\n",
       "      <td>1</td>\n",
       "    </tr>\n",
       "  </tbody>\n",
       "</table>\n",
       "</div>"
      ],
      "text/plain": [
       "                      URLs                                               Body  \\\n",
       "0       http://www.bbc.com  Image copyright Getty Images\\nOn Sunday mornin...   \n",
       "1  https://www.reuters.com  LONDON (Reuters) - ?Last Flag Flying?, a comed...   \n",
       "2  https://www.nytimes.com  The feud broke into public view last week when...   \n",
       "3  https://www.reuters.com  MEXICO CITY (Reuters) - Egypt?s Cheiron Holdin...   \n",
       "4       http://www.cnn.com  Country singer Jason Aldean, who was performin...   \n",
       "\n",
       "   Label  \n",
       "0      1  \n",
       "1      1  \n",
       "2      1  \n",
       "3      1  \n",
       "4      1  "
      ]
     },
     "execution_count": 7,
     "metadata": {},
     "output_type": "execute_result"
    }
   ],
   "source": [
    "df_sources.head()"
   ]
  },
  {
   "cell_type": "code",
   "execution_count": 8,
   "metadata": {},
   "outputs": [],
   "source": [
    "# Replacing 1 with \"Real\" and 0 with \"Fake\" In a New Colcumn\n",
    "df_sources['label'] = df_sources['Label'].map(lambda x: 'Real' if x == 1 else 'Fake')"
   ]
  },
  {
   "cell_type": "code",
   "execution_count": 9,
   "metadata": {},
   "outputs": [
    {
     "data": {
      "text/html": [
       "<div>\n",
       "<style scoped>\n",
       "    .dataframe tbody tr th:only-of-type {\n",
       "        vertical-align: middle;\n",
       "    }\n",
       "\n",
       "    .dataframe tbody tr th {\n",
       "        vertical-align: top;\n",
       "    }\n",
       "\n",
       "    .dataframe thead th {\n",
       "        text-align: right;\n",
       "    }\n",
       "</style>\n",
       "<table border=\"1\" class=\"dataframe\">\n",
       "  <thead>\n",
       "    <tr style=\"text-align: right;\">\n",
       "      <th></th>\n",
       "      <th>URLs</th>\n",
       "      <th>Body</th>\n",
       "      <th>Label</th>\n",
       "      <th>label</th>\n",
       "    </tr>\n",
       "  </thead>\n",
       "  <tbody>\n",
       "    <tr>\n",
       "      <th>0</th>\n",
       "      <td>http://www.bbc.com</td>\n",
       "      <td>Image copyright Getty Images\\nOn Sunday mornin...</td>\n",
       "      <td>1</td>\n",
       "      <td>Real</td>\n",
       "    </tr>\n",
       "    <tr>\n",
       "      <th>1</th>\n",
       "      <td>https://www.reuters.com</td>\n",
       "      <td>LONDON (Reuters) - ?Last Flag Flying?, a comed...</td>\n",
       "      <td>1</td>\n",
       "      <td>Real</td>\n",
       "    </tr>\n",
       "    <tr>\n",
       "      <th>2</th>\n",
       "      <td>https://www.nytimes.com</td>\n",
       "      <td>The feud broke into public view last week when...</td>\n",
       "      <td>1</td>\n",
       "      <td>Real</td>\n",
       "    </tr>\n",
       "    <tr>\n",
       "      <th>3</th>\n",
       "      <td>https://www.reuters.com</td>\n",
       "      <td>MEXICO CITY (Reuters) - Egypt?s Cheiron Holdin...</td>\n",
       "      <td>1</td>\n",
       "      <td>Real</td>\n",
       "    </tr>\n",
       "    <tr>\n",
       "      <th>4</th>\n",
       "      <td>http://www.cnn.com</td>\n",
       "      <td>Country singer Jason Aldean, who was performin...</td>\n",
       "      <td>1</td>\n",
       "      <td>Real</td>\n",
       "    </tr>\n",
       "  </tbody>\n",
       "</table>\n",
       "</div>"
      ],
      "text/plain": [
       "                      URLs                                               Body  \\\n",
       "0       http://www.bbc.com  Image copyright Getty Images\\nOn Sunday mornin...   \n",
       "1  https://www.reuters.com  LONDON (Reuters) - ?Last Flag Flying?, a comed...   \n",
       "2  https://www.nytimes.com  The feud broke into public view last week when...   \n",
       "3  https://www.reuters.com  MEXICO CITY (Reuters) - Egypt?s Cheiron Holdin...   \n",
       "4       http://www.cnn.com  Country singer Jason Aldean, who was performin...   \n",
       "\n",
       "   Label label  \n",
       "0      1  Real  \n",
       "1      1  Real  \n",
       "2      1  Real  \n",
       "3      1  Real  \n",
       "4      1  Real  "
      ]
     },
     "execution_count": 9,
     "metadata": {},
     "output_type": "execute_result"
    }
   ],
   "source": [
    "df_sources.head()"
   ]
  },
  {
   "cell_type": "markdown",
   "metadata": {},
   "source": [
    "# Data Preprocessing"
   ]
  },
  {
   "cell_type": "code",
   "execution_count": 10,
   "metadata": {},
   "outputs": [],
   "source": [
    "# cleaning html symbols from the sentence\n",
    "def cleanhtml(sentence):\n",
    "    cleanr = re.compile('<.*?>')\n",
    "    cleantext = re.sub(cleanr, ' ', sentence)\n",
    "    return cleantext"
   ]
  },
  {
   "cell_type": "code",
   "execution_count": 11,
   "metadata": {},
   "outputs": [],
   "source": [
    "# cleaning punctuations from the sentence\n",
    "def cleanpunc(sentence):\n",
    "    cleaned = re.sub(r'[?|!|\\'|\"|#]',r'',sentence)\n",
    "    cleaned = re.sub(r'[.|,|)|(|\\|/]',r' ',cleaned)\n",
    "    return  cleaned"
   ]
  },
  {
   "cell_type": "code",
   "execution_count": 12,
   "metadata": {},
   "outputs": [
    {
     "name": "stderr",
     "output_type": "stream",
     "text": [
      "[nltk_data] Downloading package stopwords to\n",
      "[nltk_data]     C:\\Users\\Dell\\AppData\\Roaming\\nltk_data...\n",
      "[nltk_data]   Package stopwords is already up-to-date!\n"
     ]
    }
   ],
   "source": [
    "nltk.download('stopwords')\n",
    "\n",
    "stop = stopwords.words('english') #All the stopwords in English language\n",
    "#excluding some useful words from stop words list as we doing sentiment analysis\n",
    "excluding = ['against','not','don', \"don't\",'ain', 'aren', \"aren't\", 'couldn', \"couldn't\", 'didn', \"didn't\",\n",
    "             'doesn', \"doesn't\", 'hadn', \"hadn't\", 'hasn', \"hasn't\", 'haven', \"haven't\", 'isn', \"isn't\", \n",
    "             'mightn', \"mightn't\", 'mustn', \"mustn't\", 'needn', \"needn't\",'shouldn', \"shouldn't\", 'wasn',\n",
    "             \"wasn't\", 'weren', \"weren't\", 'won', \"won't\", 'wouldn', \"wouldn't\"]\n",
    "stop = [words for words in stop if words not in excluding]"
   ]
  },
  {
   "cell_type": "code",
   "execution_count": 13,
   "metadata": {},
   "outputs": [],
   "source": [
    "snow = SnowballStemmer('english') #initialising the snowball stemmer"
   ]
  },
  {
   "cell_type": "code",
   "execution_count": 14,
   "metadata": {},
   "outputs": [],
   "source": [
    "i = 0\n",
    "string1 = ' '\n",
    "final_string = []\n",
    "fake_words = []                \n",
    "real_words = []\n",
    "s = ''\n",
    "\n",
    "for sent in df_sources['Body'].values:\n",
    "    filtered_sentence = []\n",
    "    sent = cleanhtml(str(sent))\n",
    "    sent = cleanpunc(str(sent))\n",
    "    for w in sent.split():\n",
    "        if((w.isalpha()) and (len(w)>2)):  \n",
    "            if(w.lower() not in stop):    # If it is a stopword\n",
    "                s = (snow.stem(w.lower())).encode('utf8')\n",
    "                filtered_sentence.append(s)\n",
    "                if (df_sources['label'].values)[i] == 'Real':\n",
    "                    real_words.append(s)\n",
    "                if(df_sources['label'].values)[i] == 'Fake':\n",
    "                    fake_words.append(s)\n",
    "            else:\n",
    "                continue\n",
    "        else:\n",
    "            continue \n",
    "    string1 = b\" \".join(filtered_sentence) \n",
    "    final_string.append(string1)\n",
    "    i += 1"
   ]
  },
  {
   "cell_type": "code",
   "execution_count": 15,
   "metadata": {},
   "outputs": [
    {
     "name": "stdout",
     "output_type": "stream",
     "text": [
      "Number of Real words:  567648\n",
      "Number of Fake words:  404701\n"
     ]
    }
   ],
   "source": [
    "print(\"Number of Real words: \", len(real_words))\n",
    "print(\"Number of Fake words: \", len(fake_words))"
   ]
  },
  {
   "cell_type": "code",
   "execution_count": 16,
   "metadata": {},
   "outputs": [
    {
     "data": {
      "text/html": [
       "<div>\n",
       "<style scoped>\n",
       "    .dataframe tbody tr th:only-of-type {\n",
       "        vertical-align: middle;\n",
       "    }\n",
       "\n",
       "    .dataframe tbody tr th {\n",
       "        vertical-align: top;\n",
       "    }\n",
       "\n",
       "    .dataframe thead th {\n",
       "        text-align: right;\n",
       "    }\n",
       "</style>\n",
       "<table border=\"1\" class=\"dataframe\">\n",
       "  <thead>\n",
       "    <tr style=\"text-align: right;\">\n",
       "      <th></th>\n",
       "      <th>URLs</th>\n",
       "      <th>Body</th>\n",
       "      <th>Label</th>\n",
       "      <th>label</th>\n",
       "      <th>CleanedText</th>\n",
       "    </tr>\n",
       "  </thead>\n",
       "  <tbody>\n",
       "    <tr>\n",
       "      <th>0</th>\n",
       "      <td>http://www.bbc.com</td>\n",
       "      <td>Image copyright Getty Images\\nOn Sunday mornin...</td>\n",
       "      <td>1</td>\n",
       "      <td>Real</td>\n",
       "      <td>b'imag copyright getti imag sunday morn donald...</td>\n",
       "    </tr>\n",
       "    <tr>\n",
       "      <th>1</th>\n",
       "      <td>https://www.reuters.com</td>\n",
       "      <td>LONDON (Reuters) - ?Last Flag Flying?, a comed...</td>\n",
       "      <td>1</td>\n",
       "      <td>Real</td>\n",
       "      <td>b'london reuter last flag fli vietnam war vete...</td>\n",
       "    </tr>\n",
       "    <tr>\n",
       "      <th>2</th>\n",
       "      <td>https://www.nytimes.com</td>\n",
       "      <td>The feud broke into public view last week when...</td>\n",
       "      <td>1</td>\n",
       "      <td>Real</td>\n",
       "      <td>b'feud broke public view last week corker said...</td>\n",
       "    </tr>\n",
       "    <tr>\n",
       "      <th>3</th>\n",
       "      <td>https://www.reuters.com</td>\n",
       "      <td>MEXICO CITY (Reuters) - Egypt?s Cheiron Holdin...</td>\n",
       "      <td>1</td>\n",
       "      <td>Real</td>\n",
       "      <td>b'mexico citi reuter egypt cheiron hold limit ...</td>\n",
       "    </tr>\n",
       "    <tr>\n",
       "      <th>4</th>\n",
       "      <td>http://www.cnn.com</td>\n",
       "      <td>Country singer Jason Aldean, who was performin...</td>\n",
       "      <td>1</td>\n",
       "      <td>Real</td>\n",
       "      <td>b'countri singer jason aldean perform las vega...</td>\n",
       "    </tr>\n",
       "  </tbody>\n",
       "</table>\n",
       "</div>"
      ],
      "text/plain": [
       "                      URLs                                               Body  \\\n",
       "0       http://www.bbc.com  Image copyright Getty Images\\nOn Sunday mornin...   \n",
       "1  https://www.reuters.com  LONDON (Reuters) - ?Last Flag Flying?, a comed...   \n",
       "2  https://www.nytimes.com  The feud broke into public view last week when...   \n",
       "3  https://www.reuters.com  MEXICO CITY (Reuters) - Egypt?s Cheiron Holdin...   \n",
       "4       http://www.cnn.com  Country singer Jason Aldean, who was performin...   \n",
       "\n",
       "   Label label                                        CleanedText  \n",
       "0      1  Real  b'imag copyright getti imag sunday morn donald...  \n",
       "1      1  Real  b'london reuter last flag fli vietnam war vete...  \n",
       "2      1  Real  b'feud broke public view last week corker said...  \n",
       "3      1  Real  b'mexico citi reuter egypt cheiron hold limit ...  \n",
       "4      1  Real  b'countri singer jason aldean perform las vega...  "
      ]
     },
     "execution_count": 16,
     "metadata": {},
     "output_type": "execute_result"
    }
   ],
   "source": [
    "df_sources['CleanedText'] = final_string\n",
    "df_sources.head()"
   ]
  },
  {
   "cell_type": "code",
   "execution_count": 17,
   "metadata": {},
   "outputs": [],
   "source": [
    "# without stem\n",
    "i = 0\n",
    "string1 = ' '\n",
    "final_string_nostem = []\n",
    "s = ''\n",
    "\n",
    "for sent in df_sources['Body'].values:\n",
    "    filtered_sentence=[]\n",
    "    sent = cleanhtml(str(sent))\n",
    "    sent = cleanpunc(str(sent))\n",
    "    for w in sent.split():\n",
    "        if((w.isalpha()) and (len(w)>2)):  \n",
    "            if(w.lower() not in stop):\n",
    "                s = w.lower().encode('utf8')\n",
    "                filtered_sentence.append(s)\n",
    "            else:\n",
    "                continue\n",
    "        else:\n",
    "            continue \n",
    "    string1 = b\" \".join(filtered_sentence)     \n",
    "    final_string_nostem.append(string1)\n",
    "    i += 1"
   ]
  },
  {
   "cell_type": "code",
   "execution_count": 18,
   "metadata": {},
   "outputs": [],
   "source": [
    "df_sources['CleanedText_NoStem'] = final_string_nostem"
   ]
  },
  {
   "cell_type": "code",
   "execution_count": 19,
   "metadata": {
    "scrolled": true
   },
   "outputs": [
    {
     "data": {
      "text/html": [
       "<div>\n",
       "<style scoped>\n",
       "    .dataframe tbody tr th:only-of-type {\n",
       "        vertical-align: middle;\n",
       "    }\n",
       "\n",
       "    .dataframe tbody tr th {\n",
       "        vertical-align: top;\n",
       "    }\n",
       "\n",
       "    .dataframe thead th {\n",
       "        text-align: right;\n",
       "    }\n",
       "</style>\n",
       "<table border=\"1\" class=\"dataframe\">\n",
       "  <thead>\n",
       "    <tr style=\"text-align: right;\">\n",
       "      <th></th>\n",
       "      <th>URLs</th>\n",
       "      <th>Body</th>\n",
       "      <th>Label</th>\n",
       "      <th>label</th>\n",
       "      <th>CleanedText</th>\n",
       "      <th>CleanedText_NoStem</th>\n",
       "    </tr>\n",
       "  </thead>\n",
       "  <tbody>\n",
       "    <tr>\n",
       "      <th>0</th>\n",
       "      <td>http://www.bbc.com</td>\n",
       "      <td>Image copyright Getty Images\\nOn Sunday mornin...</td>\n",
       "      <td>1</td>\n",
       "      <td>Real</td>\n",
       "      <td>b'imag copyright getti imag sunday morn donald...</td>\n",
       "      <td>b'image copyright getty images sunday morning ...</td>\n",
       "    </tr>\n",
       "    <tr>\n",
       "      <th>1</th>\n",
       "      <td>https://www.reuters.com</td>\n",
       "      <td>LONDON (Reuters) - ?Last Flag Flying?, a comed...</td>\n",
       "      <td>1</td>\n",
       "      <td>Real</td>\n",
       "      <td>b'london reuter last flag fli vietnam war vete...</td>\n",
       "      <td>b'london reuters last flag flying vietnam war ...</td>\n",
       "    </tr>\n",
       "    <tr>\n",
       "      <th>2</th>\n",
       "      <td>https://www.nytimes.com</td>\n",
       "      <td>The feud broke into public view last week when...</td>\n",
       "      <td>1</td>\n",
       "      <td>Real</td>\n",
       "      <td>b'feud broke public view last week corker said...</td>\n",
       "      <td>b'feud broke public view last week corker said...</td>\n",
       "    </tr>\n",
       "    <tr>\n",
       "      <th>3</th>\n",
       "      <td>https://www.reuters.com</td>\n",
       "      <td>MEXICO CITY (Reuters) - Egypt?s Cheiron Holdin...</td>\n",
       "      <td>1</td>\n",
       "      <td>Real</td>\n",
       "      <td>b'mexico citi reuter egypt cheiron hold limit ...</td>\n",
       "      <td>b'mexico city reuters egypts cheiron holdings ...</td>\n",
       "    </tr>\n",
       "    <tr>\n",
       "      <th>4</th>\n",
       "      <td>http://www.cnn.com</td>\n",
       "      <td>Country singer Jason Aldean, who was performin...</td>\n",
       "      <td>1</td>\n",
       "      <td>Real</td>\n",
       "      <td>b'countri singer jason aldean perform las vega...</td>\n",
       "      <td>b'country singer jason aldean performing las v...</td>\n",
       "    </tr>\n",
       "  </tbody>\n",
       "</table>\n",
       "</div>"
      ],
      "text/plain": [
       "                      URLs                                               Body  \\\n",
       "0       http://www.bbc.com  Image copyright Getty Images\\nOn Sunday mornin...   \n",
       "1  https://www.reuters.com  LONDON (Reuters) - ?Last Flag Flying?, a comed...   \n",
       "2  https://www.nytimes.com  The feud broke into public view last week when...   \n",
       "3  https://www.reuters.com  MEXICO CITY (Reuters) - Egypt?s Cheiron Holdin...   \n",
       "4       http://www.cnn.com  Country singer Jason Aldean, who was performin...   \n",
       "\n",
       "   Label label                                        CleanedText  \\\n",
       "0      1  Real  b'imag copyright getti imag sunday morn donald...   \n",
       "1      1  Real  b'london reuter last flag fli vietnam war vete...   \n",
       "2      1  Real  b'feud broke public view last week corker said...   \n",
       "3      1  Real  b'mexico citi reuter egypt cheiron hold limit ...   \n",
       "4      1  Real  b'countri singer jason aldean perform las vega...   \n",
       "\n",
       "                                  CleanedText_NoStem  \n",
       "0  b'image copyright getty images sunday morning ...  \n",
       "1  b'london reuters last flag flying vietnam war ...  \n",
       "2  b'feud broke public view last week corker said...  \n",
       "3  b'mexico city reuters egypts cheiron holdings ...  \n",
       "4  b'country singer jason aldean performing las v...  "
      ]
     },
     "execution_count": 19,
     "metadata": {},
     "output_type": "execute_result"
    }
   ],
   "source": [
    "df_sources.head()"
   ]
  },
  {
   "cell_type": "markdown",
   "metadata": {},
   "source": [
    "# Feature Extraction"
   ]
  },
  {
   "cell_type": "code",
   "execution_count": 20,
   "metadata": {},
   "outputs": [],
   "source": [
    "w2v_model = KeyedVectors.load_word2vec_format('Vec.bin.gz', binary=True)"
   ]
  },
  {
   "cell_type": "code",
   "execution_count": 21,
   "metadata": {},
   "outputs": [
    {
     "name": "stdout",
     "output_type": "stream",
     "text": [
      "[2031, 528, 2172, 1767, 2852, 2910, 2774, 134, 1479, 840, 628, 2622, 3240, 74, 386, 384, 2598, 3003, 1743, 1012, 2401, 499, 1684, 3239, 325, 385, 3090, 694, 2466, 588, 2374, 1107, 707, 429, 1532, 1085, 2243, 2963, 1233, 1459, 2742, 2595, 2797, 2525, 1403, 2782, 2445, 1925, 1794, 258, 3280, 1803, 2209, 47, 2068, 2848, 2266, 235, 3188, 1111, 192, 2444, 1552, 482, 2651, 2279, 2423, 238, 1716, 2757, 2608, 2832, 402, 1646, 718, 664, 2863, 3166, 2189, 477, 2638, 3401, 2656, 1402, 2128, 507, 2792, 311, 2855, 2709, 1686, 1088, 3532, 2273, 698, 2891, 736, 240, 1607, 52, 961, 2496, 2940, 508, 2506, 3297, 2169, 751, 1441, 2490, 1155, 2784, 3122, 1139, 14, 1639, 3583, 2943, 963, 1309, 957, 724, 224, 594, 1171, 3080, 510, 1886, 3426, 1428, 3236, 196, 1656, 103, 1572, 825, 1437, 1670, 2977, 2530, 3246, 3320, 3386, 1447, 2442, 2721, 1703, 3021, 1502, 336, 3158, 2755, 985, 208, 431, 962, 1205, 2112, 33, 1880, 3420, 3496, 3286, 1225, 392, 2095, 1474, 306, 898, 3138, 1530, 3439, 3139, 1738, 466, 3367, 674, 2262, 1436, 1008, 845, 2720, 3281, 3154, 676, 799, 1141, 207, 1211, 2573, 3241, 2211, 1224, 593, 1519, 3460, 1011, 738, 3266, 3288, 1, 1252, 595, 520, 168, 817, 341, 1113, 1721, 903, 1581, 260, 1161, 1752, 1390, 536, 2894, 3516, 777, 1166, 180, 3383, 3262, 1130, 1045, 1597, 583, 2507, 685, 780, 64, 3547, 1350, 1253, 2406, 1945, 996, 1281, 1883, 2551, 896, 369, 1535, 2088, 3409, 413, 625, 1404, 3049, 767, 1491, 2765, 3069, 1129, 2160, 158, 3330, 2606, 1931, 1909, 461, 424, 3347, 40, 2988, 2735, 2706, 671, 3362, 246, 1591, 541, 2361, 1720, 2010, 3528, 2363, 544, 673, 1706, 626, 1991, 3590, 3012, 627, 1989, 2756, 1827, 1314, 1013, 2526, 617, 749, 86, 115, 1123, 2740, 2693, 1137, 2400, 432, 156, 2980, 2758, 1040, 1072, 1163, 2457, 2247, 695, 1493, 1919, 444, 2637, 1146, 3277, 2222, 1924, 3300, 2313, 1104, 2859, 1181, 3302, 737, 70, 1757, 639, 786, 163, 2535, 2923, 1039, 2834, 3013, 3509, 2569, 126, 2820, 184, 1693, 1313, 813, 2577, 62, 404, 899, 1715, 2879, 3331, 1368, 1829, 450, 1850, 2002, 3472, 255, 3469, 1947, 2668, 1323, 1054, 2728, 312, 3499, 2168, 20, 157, 1865, 940, 409, 1443, 1495, 1965, 2716, 3245, 932, 1982, 143, 245, 3085, 1068, 2250, 381, 1478, 892, 624, 1238, 81, 1672, 1423, 1740, 2041, 506, 211, 3191, 128, 2221, 1389, 3238, 2574, 2201, 1918, 1609, 512, 636, 847, 2003, 1692, 1967, 3084, 1083, 1251, 2623, 3005, 2270, 1727, 2086, 2219, 400, 739, 75, 2921, 1484, 290, 815, 1010, 1645, 1892, 2842, 2639, 1563, 1634, 1207, 979, 2307, 805, 3535, 2531, 1206, 884, 3562, 109, 1959, 1291, 2974, 2869, 1768, 3397, 1595, 77, 2028, 3209, 3045, 2841, 1406, 3184, 2564, 1920, 2274, 3393, 2601, 198, 379, 2188, 841, 719, 2845, 585, 3253, 2473, 2568, 2036, 2958, 2184, 330, 1473, 3579, 1807, 322, 1603, 2166, 2678, 2982, 1960, 809, 2557, 1912, 1921, 2175, 2065, 513, 1859, 863, 3323, 622, 172, 395, 1869, 2420, 3548, 2948, 3584, 101, 859, 2493, 1822, 1927, 3094, 1658, 1817, 2589, 2103, 3451, 215, 918, 2519, 2788, 2415, 900, 2488, 2441, 1689, 3007, 582, 2372, 642, 242, 2829, 686, 3127, 453, 113, 2014, 2747, 2365, 988, 2167, 518, 3471, 559, 2025, 2932, 748, 2503, 1200, 217, 3077, 567, 3263, 797, 1642, 1972, 2370, 1781, 3399, 1828, 2773, 3412, 3228, 1365, 37, 548, 1647, 2090, 3571, 802, 98, 779, 1809, 1576, 2333, 818, 706, 800, 692, 174, 1066, 1025, 3201, 1425, 2817, 56, 486, 1760, 873, 2422, 3164, 1604, 524, 2344, 1654, 201, 449, 1227, 2895, 1728, 3317, 2554, 1366, 3561, 1719, 373, 1149, 3491, 3465, 3000, 2492, 2510, 570, 3529, 659, 633, 467, 494, 971, 1364, 2571, 435, 2904, 374, 620, 3550, 1018, 2053, 1842, 1698, 407, 2900, 2261, 2144, 1157, 1751, 1432, 2064, 2470, 2051, 2425, 2978, 729, 656, 1567, 735, 1954, 12, 925, 3349, 2275, 560, 1874, 2918, 3353, 1942, 418, 451, 1371, 1094, 1003, 3169, 1135, 1015, 3538, 2451, 2874, 2967, 1059, 2057, 446, 731, 1427, 1397, 1283, 1475, 2108, 2109, 666, 2928, 2136, 2435, 732, 2713, 2228, 441, 2970, 2220, 3214, 1926, 3279, 1725, 3063, 2925, 2812, 2012, 1671, 2281, 2093, 2805, 1862, 3097, 652, 553, 2236, 722, 3070, 3573, 604, 188, 389, 2133, 3102, 3268, 148, 1574, 3210, 662, 1841, 3421, 1471, 2402, 90, 2798, 1240, 2543, 3152, 1293, 3368, 701, 263, 1867, 3514, 1335, 107, 3379, 2062, 930, 1697, 2843, 1831, 653, 1082, 723, 2739, 3407, 2926, 1718, 1870, 3039, 2565, 3339, 3081, 3024, 324, 1228, 2043, 2299, 1624, 2667, 164, 1374, 345, 3563, 2063, 2437, 1766, 2655, 2744, 1734, 1214, 2862, 475, 1002, 356, 84, 954, 3324, 2020, 3417, 1615, 672, 1840, 144, 1641, 179, 1019, 2141, 152, 1503, 160, 1337, 2410, 2162, 2349, 1952, 1005, 3011, 895, 3370, 527, 130, 501, 177, 710, 3513, 326, 646, 104, 1466, 3378, 116, 3313, 3014, 2264, 2603, 2352, 893, 3076, 1635, 3467, 2351, 3526, 3361, 1885, 2454, 455, 1864, 301, 58, 1328, 3456, 2866, 1248, 1330, 2657, 2224, 1387, 3264, 3582, 3303, 2387, 2027, 1173, 699, 2514, 3416, 2042, 68, 1405, 3056, 3422, 792, 1680, 2293, 2878, 3311, 1798, 1985, 734, 680, 365, 1355, 1651, 1801, 170, 3144, 2872, 1855, 9, 2482, 2104, 3204, 2911, 1193, 1556, 2146, 2497, 3291, 1165, 3134, 1568, 3233, 2049, 2161, 397, 1266, 243, 1694, 3116, 757, 958, 3091, 2968, 2989, 1773, 663, 412, 2419, 447, 4, 2306, 1505, 3196, 3088, 1800, 2137, 2499, 2890, 1458, 2165, 2748, 2578, 579, 1979, 226, 433, 2689, 907, 149, 304, 2107, 1448, 720, 3459, 1745, 1601, 2153, 1888, 1063, 237, 396, 3151, 150, 1948, 3295, 1058, 1128, 2759, 333, 1733, 487, 1749, 1481, 2434, 1191, 3040, 3034, 3560, 2371, 1543, 1285, 323, 2202, 257, 1584, 573, 89, 2145, 1724, 1256, 1467, 1298, 273, 1451, 3594, 1026, 364, 2239, 16, 2292, 1847, 2393, 2642, 1618, 2468, 561, 1835, 1290, 118, 2447, 2549, 2231, 865, 1539, 2955, 2660, 2477, 1598, 3493, 3342, 1270, 2001, 2268, 2177, 568, 270, 1900, 463, 3207, 239, 2915, 2326, 632, 505, 725, 3035, 3336, 1677, 3029, 771, 2330, 788, 1729, 43, 3437, 1081, 1573, 1790, 992, 2080, 2033, 1564, 1903, 3284, 2555, 2614, 1303, 580, 2158, 3405, 3219, 474, 2098, 376, 839, 994, 1460, 1396, 2836, 1509, 1537, 79, 1408, 2078, 3321, 3340, 1086, 1334, 1453, 2794, 1344, 3466, 1754, 1668, 1558, 2772, 300, 142, 2674, 3338, 479, 2411, 3119, 2396, 921, 2880, 2289, 3103, 1857, 2532, 2673, 2961, 2861, 1834, 2119, 1786, 1345, 804, 2323, 2907, 1626, 403, 2613, 2258, 2016, 275, 3192, 3565, 2474, 2957, 2949, 2439, 146, 823, 1044, 2386, 3457, 2634, 244, 1497, 2325, 1079, 3086, 2663, 3433, 2385, 2707, 2181, 2214, 223, 1789, 262, 904, 2814, 3489, 3120, 1009, 1136, 28, 2858, 31, 1271, 100, 3058, 2950, 2087, 3222, 834, 1662, 3398, 307, 46, 2404, 232, 766, 1871, 2257, 2597, 821, 2395, 3027, 2194, 2233, 3462, 3235, 534, 3533, 966, 3490, 592, 855, 3179, 2602, 1064, 978, 1611, 756, 1542, 2838, 313, 2046, 670, 990, 2197, 1391, 1838, 1863, 1633, 638, 2389, 2294, 2055, 3424, 3359, 3558, 2736, 2681, 2118, 2972, 2348, 3334, 2450, 3046, 80, 1548, 3435, 850, 3113, 1179, 2590, 139, 3126, 696, 383, 2997, 1226, 1600, 3382, 750, 3552, 2479, 17, 1151, 2686, 1017, 2102, 1308, 3289, 2710, 1791, 3486, 3285, 285, 3010, 319, 1360, 2408, 375, 1881, 1339, 3173, 1119, 1669, 951, 1461, 2708, 2962, 1264, 1442, 525, 96, 2715, 801, 1852, 1534, 30, 1691, 1142, 3360, 3001, 484, 2670, 905, 3030, 2560, 3242, 2424, 532, 231, 3009, 1513, 220, 914, 1304, 3447, 3531, 2711, 3332, 2416, 3065, 3414, 241, 2315, 2882, 3575, 1710, 2311, 335, 597, 3074, 2483, 1877, 1469, 2154, 660, 1235, 952, 2786, 2893, 3306, 2461, 3193, 3446, 3143, 2452, 1717, 906, 1050, 1377, 3341, 1812, 3229, 742, 203, 1382, 3568, 589, 2024, 2378, 327, 2456, 3105, 2550, 1593, 1249, 1120, 2455, 912, 637, 2819, 1131, 436, 591, 1815, 1482, 3175, 1853, 420, 870, 2465, 2746, 219, 1750, 1367, 1354, 2206, 3510, 3494, 2305, 2959, 363, 2443, 7, 2854, 2388, 2586, 454, 1024, 3365, 3308, 1499, 2539, 2833, 2226, 1771, 2280, 2816, 339, 1901, 1217, 1554, 42, 794, 2913, 3523, 1580, 3250, 2635, 3227, 44, 401, 2768, 147, 2633, 2290, 3042, 182, 846, 2935, 281, 987, 1006, 3540, 117, 2810, 926, 774, 2390, 1106, 1279, 852, 1230, 705, 1380, 2837, 2924, 3564, 915, 1399, 439, 564, 2975, 2793, 599, 3068, 999, 83, 1046, 2629, 2248, 2008, 3256, 2929, 3551, 2106, 2857, 669, 2134, 1737, 964, 1091, 1596, 428, 1679, 99, 1913, 3596, 1487, 2034, 2312, 702, 153, 2230, 2509, 1707, 92, 2522, 3316, 3390, 2529, 517, 2986, 2058, 1297, 1476, 2045, 3574, 1893, 1826, 1115, 1261, 3524, 212, 2504, 1879, 1424, 838, 3038, 3505, 1048, 1114, 3474, 462, 793, 1858, 2827, 3223, 3381, 1429, 650, 2462, 888, 2157, 3062, 1538, 881, 138, 2332, 1216, 3553, 2616, 1999, 2770, 1381, 3292, 1386, 2235, 3518, 1547, 1036, 2621, 2688, 1792, 2559, 278, 2138, 2885, 3099, 2998, 8, 1259, 284, 1274, 2741, 1861, 2314, 2761, 296, 456, 578, 2232, 2484, 1312, 2263, 3408, 2110, 488, 629, 665, 1035, 145, 2981, 2271, 913, 1221, 1347, 605, 485, 943, 2604, 3327, 2887, 3517, 78, 2267, 762, 1267, 2185, 1510, 1433, 1445, 1953, 1673, 1810, 2380, 1126, 3508, 3335, 205, 1477, 166, 2505, 891, 950, 320, 230, 2537, 611, 2159, 691, 1629, 927, 550, 1438, 2952, 689, 2823, 3333, 2495, 1506, 1898, 2321, 649, 2825, 2300, 1167, 2776, 415, 87, 460, 1138, 2835, 3044, 3454, 3464, 2084, 753, 3082, 3165, 514, 2060, 2612, 909, 287, 426, 1746, 343, 917, 1212, 1156, 755, 2440, 2463, 1376, 1872, 25, 829, 1027, 2038, 1774, 883, 377, 3155, 2587, 3544, 1400, 24, 2212, 2856, 3541, 3294, 1589, 443, 422, 1578, 1080, 3028, 1759, 1516, 3234, 1739, 615, 920, 1997, 362, 745, 3299, 410, 658, 361, 45, 3093, 596, 1566, 2022, 1322, 1949, 3419, 3171, 761, 2899, 772, 1263, 2628, 1616, 1412, 2446, 191, 1961, 1545, 1449, 1507, 1204, 2766, 2983, 1685, 2381, 945, 2218, 1450, 2498, 542, 1472, 3162, 3213, 972, 1995, 452, 3525, 1197, 3147, 2295, 2860, 1599, 1089, 2661, 2115, 3492, 2648, 2449, 2210, 929, 1753, 67, 1994, 2242, 3479, 1594, 71, 2850, 1470, 111, 2884, 1219, 1369, 1032, 1031, 427, 2919, 213, 678, 471, 351, 598, 581, 1808, 259, 49, 2683, 849, 2796, 496, 2591, 1922, 2733, 1565, 1177, 303, 329, 2513, 3301, 1289, 3443, 828, 3290, 3504, 2521, 2712, 1143, 1699, 3273, 371, 3425, 778, 1051, 2984, 935, 398, 434, 2987, 3257, 3159, 1110, 830, 1341, 556, 1098, 2584, 977, 1038, 557, 3124, 1084, 614, 1465, 833, 442, 3100, 1414, 872, 1483, 1340, 826, 1517, 2129, 2469, 2339, 3396, 2588, 623, 3497, 2350, 2822, 366, 2662, 1145, 88, 161, 861, 2917, 2359, 973, 1592, 221, 1317, 2199, 1383, 577, 1250, 1300, 283, 251, 1188, 1702, 2277, 1637, 3104, 1514, 1818, 2428, 715, 3132, 1622, 2150, 812, 233, 1701, 3026, 1848, 1105, 1682, 236, 1440, 1661, 3476, 63, 2122, 3345, 3375, 2886, 3098, 3559, 3270, 808, 1037, 3519, 730, 1500, 3512, 1820, 136, 3149, 2682, 2517, 209, 2676, 3369, 1275, 630, 1700, 187, 2032, 2246, 298, 2945, 3255, 3137, 1052, 3483, 2123, 1882, 2301, 3114, 1041, 261, 10, 609, 1529, 332, 2052, 3015, 171, 1730, 1153, 2328, 1648, 2753, 340, 3355, 3354, 3599, 2536, 2781, 776, 2699, 3224, 869, 1887, 3053, 1097, 1856, 2278, 3374, 853, 2229, 1127, 2630, 765, 3440, 127, 1508, 1468, 1762, 1496, 1186, 2240, 2996, 3060, 931, 2260, 2089, 1311, 2905, 2751, 726, 886, 2501, 2520, 1198, 1292, 3172, 3307, 2830, 631, 1772, 3418, 2951, 3141, 2399, 539, 1950, 1209, 1185, 3543, 2954, 844, 347, 2821, 3315, 1501, 2143, 1363, 3452, 2186, 3061, 2327, 1324, 1937, 370, 3432, 3356, 3095, 2914, 1644, 3549, 458, 683, 2675, 1714, 3488, 537, 1675, 998, 51, 2077, 3305, 2692, 764, 968, 2356, 2448, 3595, 3314, 502, 3230, 1971, 2553, 1431, 1889, 3276, 942, 1884, 346, 2903, 2813, 781, 1910, 3136, 2695, 897, 3411, 2412, 1176, 1696, 1557, 1968, 390, 253, 1793, 249, 3269, 2800, 3161, 1053, 3503, 2853, 586, 1977, 2018, 1813, 1915, 681, 1353, 744, 3402, 1804, 3181, 140, 3481, 3434, 606, 1239, 2317, 1712, 295, 3527, 1824, 1457, 546, 1093, 2871, 1020, 2, 227, 2749, 2329, 2570, 2382, 1940, 2029, 1095, 3366, 938, 2127, 1911, 2617, 2687, 1890, 655, 2394, 1512, 206, 2375, 1897, 1929, 423, 679, 1562, 2059, 1722, 1134, 354, 862, 167, 225, 2647, 2149, 3129, 1735, 3567, 3351, 1454, 2806, 657, 2851, 1196, 1638, 1342, 3153, 960, 934, 558, 1755, 1917, 2909, 2097, 3243, 1329, 760, 3507, 2534, 1688, 584, 438, 1742, 1183, 1030, 200, 3031, 3556, 1980, 2944, 1159, 1663, 787, 1986, 2287, 1182, 3185, 3108, 2215, 2481, 2611, 1814, 3350, 2528, 3296, 2931, 3480, 2069, 2552, 2130, 1614, 2690, 2054, 2599, 2044, 2732, 970, 3597, 3566, 1375, 125, 165, 519, 2362, 3198, 3498, 2223, 3115, 2132, 2563, 2973, 1630, 2324, 2417, 785, 491, 2331, 2019, 3220, 1343, 2729, 416, 1419, 1057, 1860, 2846, 867, 3438, 682, 1571, 1284, 2418, 783, 2338, 2397, 2731, 3312, 1540, 378, 137, 1836, 946, 1122, 2502, 1944, 2985, 1966, 2515, 1416, 3218, 1916, 2334, 2779, 759, 1232, 923, 2542, 976, 2021, 552, 1905, 2653, 1777, 728, 2015, 3006, 2259, 2696, 3304, 1444, 2391, 1372, 868, 1394, 2541, 94, 953, 3107, 3569, 2881, 1358, 3023, 743, 819, 3064, 2787, 3117, 3522, 3588, 1359, 2999, 2625, 2809, 687, 3259, 1802, 2826, 1993, 193, 1963, 810, 1528, 2722, 1527, 2085, 3413, 529, 1190, 29, 1070, 3546, 2255, 983, 902, 2567, 2006, 3343, 521, 3310, 3217, 498, 1561, 1983, 1585, 114, 1526, 2241, 2767, 1409, 2035, 515, 2310, 3536, 1282, 746, 2726, 2269, 565, 1125, 1439, 959, 2291, 965, 269, 2592, 600, 185, 1987, 526, 860, 3448, 1970, 1974, 3221, 1124, 97, 3208, 2540, 288, 3322, 1385, 1327, 1395, 11, 1299, 414, 197, 3050, 3160, 1277, 3087, 2252, 3148, 547, 1843, 1417, 1434, 1652, 2048, 947, 1787, 1586, 608, 2105, 2286, 105, 511, 2620, 2593, 3131, 936, 495, 711, 1132, 3022, 3189, 2889, 2005, 1346, 1237, 2877, 1349, 1074, 108, 1004, 3557, 3589, 3059, 1348, 1914, 2508, 2867, 1410, 2083, 3502, 3404, 3237, 1213, 3066, 1160, 3344, 277, 2376, 1480, 747, 3194, 1990, 3554, 189, 2297, 1569, 181, 3274, 1223, 1504, 1023, 3429, 1550, 1723, 1170, 3135, 254, 1118, 425, 2875, 1055, 2225, 1245, 856, 1825, 2922, 26, 882, 2745, 1306, 516, 1498, 3309, 2308, 2730, 2238, 36, 1744, 2619, 2004, 641, 310, 2795, 2251, 3577, 2870, 1784, 654, 1902, 864, 740, 3271, 741, 1272, 2665, 247, 3487, 3261, 1559, 2120, 1610, 2272, 1544, 3249, 178, 2491, 3477, 2704, 1964, 2873, 2971, 2785, 1627, 2131, 1099, 1939, 2283, 1203, 202, 2409, 1112, 252, 3106, 2840, 3018, 1096, 2458, 3205, 3391, 941, 563, 2888, 1778, 2995, 1494, 3578, 2478, 1121, 3576, 2956, 540, 2192, 836, 1273, 2645, 587, 1908, 2111, 1034, 1060, 1455, 758, 1321, 2213, 1319, 408, 1935, 1326, 85, 388, 41, 465, 3203, 1077, 1331, 318, 3387, 3364, 503, 1998, 549, 1222, 3511, 1613, 328, 1258, 969, 2807, 1247, 1934, 151, 69, 1305, 1799, 3385, 1868, 342, 1456, 1779, 1269, 2061, 1531, 1090, 827, 3072, 1907, 3182, 294, 1570, 880, 2316, 791, 256, 2538, 1579, 2180, 1194, 984, 2579, 2099, 1028, 1763, 3357, 866, 2512, 1674, 612, 1923, 2208, 1978, 2912, 1524, 2802, 2646, 3445, 1078, 1553, 1488, 66, 2737, 469, 3231, 250, 2489, 2582, 2364, 3326, 832, 1515, 2011, 2050, 1001, 2523, 2640, 2605, 3052, 713, 2056, 769, 3348, 2947, 1520, 2658, 228, 1379, 183, 635, 1523, 566, 2384, 1866, 843, 1049, 2152, 874, 621, 1150, 1704, 350, 1726, 2511, 530, 733, 2780, 3468, 875, 2906, 3572, 1765, 601, 2558, 1876, 1361, 2610, 1761, 3319, 1664, 1632, 2664, 110, 2100, 2182, 129, 2421, 2991, 190, 2941, 1231, 119, 1393, 1201, 1770, 2697, 302, 974, 2319, 1336, 1932, 2121, 2618, 1246, 2193, 155, 2583, 885, 497, 1640, 1407, 1711, 2195, 2790, 344, 995, 1462, 2902, 2373, 6, 122, 493, 1310, 2320, 1667, 1676, 93, 1218, 2644, 3475, 1938, 3455, 3163, 2383, 901, 618, 3318, 645, 1164, 3174, 186, 367, 1356, 1560, 1612, 3380, 1541, 5, 308, 1788, 293, 478, 837, 2964, 1756, 2659, 2135, 2580, 286, 2734, 216, 1014, 1116, 677, 2937, 2234, 551, 169, 619, 2585, 2345, 3111, 1392, 124, 2965, 299, 3150, 279, 2684, 483, 394, 2179, 1708, 1811, 289, 2191, 1117, 2672, 1415, 464, 3025, 2752, 309, 468, 831, 1823, 2898, 2430, 35, 571, 2669, 195, 2650, 851, 1147, 357, 1162, 2760, 3363, 53, 3092, 1678, 2079, 835, 1033, 3244, 54, 1984, 2581, 3506, 3495, 1830, 2368, 1906, 1619, 3392, 796, 3251, 1975, 368, 3183, 50, 2176, 991, 3199, 3441, 2067, 23, 2518, 667, 2205, 634, 2702, 282, 1896, 297, 814, 1244, 721, 1525, 2839, 3017, 2113, 1000, 3500, 1029, 2691, 2933, 3450, 2627, 770, 709, 1996, 3180, 1643, 500, 2719, 1992, 2392, 2927, 1943, 2254, 411, 3187, 1590, 3265, 2738, 1844, 1255, 3252, 2013, 473, 908, 2808, 2355, 470, 693, 1087, 1748, 2789, 1518, 65, 2717, 387, 1332, 248, 3146, 3423, 1100, 399, 703, 3570, 199, 648, 3372, 1732, 2936, 95, 1854, 3530, 2336, 981, 509, 1582, 2284, 1933, 2309, 2091, 2163, 2379, 2471, 2725, 1373, 3394, 2652, 437, 292, 2023, 2341, 752, 1758, 38, 2096, 2994, 2475, 1819, 2596, 3384, 3254, 3484, 112, 1351, 1420, 2993, 1296, 1695, 2864, 2556, 2353, 1837, 2920, 2930, 2487, 877, 266, 3293, 3376, 1988, 3200, 13, 933, 3125, 27, 2173, 3272, 2467, 1022, 1657, 34, 975, 2347, 2000, 1623, 1899, 1452, 1338, 1286, 3008, 1780, 459, 3247, 607, 194, 1073, 2196, 1195, 445, 3225, 1936, 2946, 2705, 768, 575, 3133, 2367, 1418, 2398, 2092, 1398, 2066, 2527, 3258, 2778, 1210, 2561, 937, 2207, 175, 2170, 1690, 1280, 348, 2204, 1821, 2547, 3520, 1617, 889, 1152, 2438, 476, 1536, 504, 1301, 2703, 1895, 3395, 967, 3226, 1260, 1401, 3586, 2139, 562, 1957, 3473, 1489, 2074, 2125, 272, 1075, 1435, 1426, 572, 1894, 1234, 57, 1575, 2671, 2666, 911, 807, 315, 2094, 1741, 2340, 1043, 910, 1533, 824, 2156, 3176, 647, 3142, 3073, 2896, 1941, 2966, 1102, 982, 48, 1056, 1783, 2147, 405, 1180, 2071, 1583, 2572, 1168, 1184, 531, 854, 3195, 1463, 3047, 1241, 919, 291, 321, 1845, 1175, 2360, 2178, 3051, 1101, 1956, 61, 2624, 382, 3178, 2791, 3415, 2777, 2844, 2654, 2117, 3275, 533, 2403, 3598, 1288, 795, 3329, 590, 2217, 554, 457, 1806, 1588, 2764, 3156, 871, 2990, 1316, 803, 2953, 3581, 2714, 1839, 1172, 955, 1891, 1946, 690, 944, 1362, 3123, 176, 1243, 3478, 352, 19, 430, 1796, 1486, 1276, 3458, 1192, 2030, 154, 2427, 3167, 353, 2942, 2302, 727, 538, 3282, 2040, 3157, 1628, 684, 2126, 2548, 986, 2801, 3041, 1047, 3232, 1687, 3057, 1769, 2799, 3, 523, 535, 2480, 102, 2369, 2769, 2677, 1775, 2485, 2818, 3537, 1411, 2698, 2775, 3436, 2901, 1069, 1962, 2464, 2148, 1307, 2245, 842, 576, 3593, 32, 3406, 1178, 924, 492, 3202, 1795, 879, 1833, 2992, 1220, 2198, 3580, 1849, 1370, 714, 2516, 1133, 3170, 2679, 3591, 997, 848, 1951, 1713, 1062, 2631, 440, 668, 3358, 2594, 2976, 1016, 1422, 2783, 2203, 2916, 3283, 2609, 480, 218, 2366, 2039, 2304, 3055, 1973, 3515, 2075, 2754, 1731, 121, 3587, 1229, 916, 3036, 2142, 1021, 1294, 2335, 1061, 1109, 1608, 39, 2649, 3267, 3110, 1154, 2636, 1352, 349, 2101, 2431, 1551, 2811, 1158, 2318, 2082, 2282, 2576, 268, 1846, 858, 2743, 204, 2685, 3453, 1295, 2433, 697, 3043, 543, 806, 675, 3075, 2253, 956, 1318, 1413, 73, 229, 603, 1421, 1065, 393, 2337, 2865, 2009, 2544, 1430, 2037, 1189, 1144, 21, 2934, 1262, 1265, 2303, 3431, 1736, 1485, 2200, 1215, 1257, 3109, 490, 72, 763, 887, 2723, 2460, 82, 2762, 1625, 1666, 3442, 2566, 2414, 1103, 1174, 3177, 3211, 716, 1254, 2298, 1764, 1320, 1384, 2828, 1955, 2407, 2876, 1659, 2081, 3449, 1878, 3112, 789, 360, 2750, 76, 1067, 2680, 1816, 1140, 2868, 2124, 1709, 2405, 890, 2436, 2343, 3248, 712, 3400, 3071, 651, 993, 555, 421, 613, 2524, 2815, 2533, 2296, 2626, 790, 574, 2249, 3079, 3145, 1577, 928, 949, 18, 2190, 1587, 784, 3260, 1705, 2960, 661, 1649, 3121, 2938, 60, 643, 1602, 3427, 1315, 1492, 2643, 2357, 2265, 3428, 2476, 135, 305, 2453, 1490, 1782, 1620, 1606, 1805, 1199, 1549, 3048, 2426, 2432, 644, 3501, 2322, 894, 1042, 2824, 1875, 358, 2140, 3215, 2615, 1446, 3534, 2849, 2151, 1302, 2771, 267, 59, 2070, 3371, 2288, 2183, 1108, 1776, 1333, 3352, 3444, 123, 1928, 448, 55, 3521, 2216, 989, 2701, 1388, 2575, 811, 3585, 22, 2804, 948, 1325, 3020, 2346, 2164, 3032, 1007, 2892, 2073, 2600, 1904, 2429, 3470, 2472, 1650, 3482, 3019, 2979, 2486, 3389, 274, 822, 773, 265, 2017, 3089, 210, 3168, 1202, 3054, 3430, 334, 2358, 3067, 1169, 2114, 131, 276, 1683, 1546, 1511, 338, 616, 1969, 2072, 939, 2847, 522, 857, 316, 1187, 2694, 688, 754, 2187, 704, 173, 3328, 2897, 2342, 1076, 1631, 3140, 2276, 602, 2724, 2171, 3216, 1981, 380, 1681, 2116, 3186, 2883, 3346, 1873, 1357, 3403, 132, 2763, 1832, 2908, 3004, 2546, 1148, 2641, 2413, 2237, 3388, 489, 317, 3128, 2831, 2155, 1930, 2354, 120, 3373, 3325, 3101, 2939, 2803, 2494, 1976, 2718, 545, 820, 2727, 3287, 782, 3278, 1278, 3377, 2076, 876, 417, 2459, 878]\n"
     ]
    },
    {
     "name": "stderr",
     "output_type": "stream",
     "text": [
      "c:\\users\\dell\\appdata\\local\\programs\\python\\python37\\lib\\site-packages\\ipykernel_launcher.py:12: DeprecationWarning: Call to deprecated `wv` (Attribute will be removed in 4.0.0, use self instead).\n",
      "  if sys.path[0] == '':\n"
     ]
    }
   ],
   "source": [
    "avg_vec = []\n",
    "datapoint = 3600\n",
    "sample_cols = random.sample(range(1, datapoint), 3500)\n",
    "print(sample_cols)\n",
    "\n",
    "for sent in df_sources['CleanedText_NoStem'].values[sample_cols]:\n",
    "    cnt = 0\n",
    "    sent_vec = np.zeros(300)\n",
    "    sent = sent.decode(\"utf-8\") \n",
    "    for word in sent.split():\n",
    "        try:\n",
    "            wvec = w2v_model.wv[word]\n",
    "            sent_vec += wvec\n",
    "            cnt += 1\n",
    "        except: \n",
    "            pass\n",
    "    sent_vec /= cnt\n",
    "    avg_vec.append(sent_vec)\n",
    "avg_vec = np.array(avg_vec)"
   ]
  },
  {
   "cell_type": "code",
   "execution_count": 22,
   "metadata": {},
   "outputs": [],
   "source": [
    "col_mean = np.nanmean(avg_vec, axis=0)"
   ]
  },
  {
   "cell_type": "code",
   "execution_count": 23,
   "metadata": {},
   "outputs": [
    {
     "data": {
      "text/plain": [
       "(array([], dtype=int64), array([], dtype=int64))"
      ]
     },
     "execution_count": 23,
     "metadata": {},
     "output_type": "execute_result"
    }
   ],
   "source": [
    "inds = np.where(np.isnan(avg_vec)) \n",
    "inds"
   ]
  },
  {
   "cell_type": "code",
   "execution_count": 24,
   "metadata": {},
   "outputs": [],
   "source": [
    "avg_vec[inds] = np.take(col_mean, inds[1])"
   ]
  },
  {
   "cell_type": "code",
   "execution_count": 25,
   "metadata": {},
   "outputs": [
    {
     "data": {
      "text/plain": [
       "array([[ 0.01997244,  0.00810643,  0.02555133, ..., -0.04480878,\n",
       "         0.01539862, -0.03777151],\n",
       "       [-0.00793062,  0.01785057,  0.01505266, ..., -0.03377349,\n",
       "         0.00850744,  0.01977539],\n",
       "       [ 0.05515263,  0.02131232,  0.03239809, ..., -0.03908013,\n",
       "         0.0964587 ,  0.02547928],\n",
       "       ...,\n",
       "       [ 0.02048484,  0.04999871,  0.0289135 , ..., -0.05455526,\n",
       "         0.02844876,  0.02564424],\n",
       "       [ 0.04568246,  0.05437557,  0.01303368, ..., -0.06733903,\n",
       "         0.02020742, -0.00325991],\n",
       "       [-0.01713439,  0.10913958,  0.04739652, ...,  0.00650715,\n",
       "         0.04477456, -0.01772199]])"
      ]
     },
     "execution_count": 25,
     "metadata": {},
     "output_type": "execute_result"
    }
   ],
   "source": [
    "avg_vec"
   ]
  },
  {
   "cell_type": "code",
   "execution_count": 26,
   "metadata": {},
   "outputs": [],
   "source": [
    "from sklearn import preprocessing\n",
    "avg_vec_norm = preprocessing.normalize(avg_vec)"
   ]
  },
  {
   "cell_type": "code",
   "execution_count": 27,
   "metadata": {},
   "outputs": [
    {
     "data": {
      "text/html": [
       "<div>\n",
       "<style scoped>\n",
       "    .dataframe tbody tr th:only-of-type {\n",
       "        vertical-align: middle;\n",
       "    }\n",
       "\n",
       "    .dataframe tbody tr th {\n",
       "        vertical-align: top;\n",
       "    }\n",
       "\n",
       "    .dataframe thead th {\n",
       "        text-align: right;\n",
       "    }\n",
       "</style>\n",
       "<table border=\"1\" class=\"dataframe\">\n",
       "  <thead>\n",
       "    <tr style=\"text-align: right;\">\n",
       "      <th></th>\n",
       "      <th>label</th>\n",
       "    </tr>\n",
       "  </thead>\n",
       "  <tbody>\n",
       "    <tr>\n",
       "      <th>0</th>\n",
       "      <td>Real</td>\n",
       "    </tr>\n",
       "    <tr>\n",
       "      <th>1</th>\n",
       "      <td>Real</td>\n",
       "    </tr>\n",
       "    <tr>\n",
       "      <th>2</th>\n",
       "      <td>Fake</td>\n",
       "    </tr>\n",
       "    <tr>\n",
       "      <th>3</th>\n",
       "      <td>Fake</td>\n",
       "    </tr>\n",
       "    <tr>\n",
       "      <th>4</th>\n",
       "      <td>Real</td>\n",
       "    </tr>\n",
       "    <tr>\n",
       "      <th>...</th>\n",
       "      <td>...</td>\n",
       "    </tr>\n",
       "    <tr>\n",
       "      <th>3495</th>\n",
       "      <td>Real</td>\n",
       "    </tr>\n",
       "    <tr>\n",
       "      <th>3496</th>\n",
       "      <td>Real</td>\n",
       "    </tr>\n",
       "    <tr>\n",
       "      <th>3497</th>\n",
       "      <td>Real</td>\n",
       "    </tr>\n",
       "    <tr>\n",
       "      <th>3498</th>\n",
       "      <td>Fake</td>\n",
       "    </tr>\n",
       "    <tr>\n",
       "      <th>3499</th>\n",
       "      <td>Real</td>\n",
       "    </tr>\n",
       "  </tbody>\n",
       "</table>\n",
       "<p>3500 rows × 1 columns</p>\n",
       "</div>"
      ],
      "text/plain": [
       "     label\n",
       "0     Real\n",
       "1     Real\n",
       "2     Fake\n",
       "3     Fake\n",
       "4     Real\n",
       "...    ...\n",
       "3495  Real\n",
       "3496  Real\n",
       "3497  Real\n",
       "3498  Fake\n",
       "3499  Real\n",
       "\n",
       "[3500 rows x 1 columns]"
      ]
     },
     "execution_count": 27,
     "metadata": {},
     "output_type": "execute_result"
    }
   ],
   "source": [
    "# labels against the sample data points\n",
    "s1=[]\n",
    "for sent in df_sources['label'].values[sample_cols]:\n",
    "    s1.append(sent)\n",
    "\n",
    "df1 = pd.DataFrame(s1, columns = ['label']) \n",
    "df1"
   ]
  },
  {
   "cell_type": "code",
   "execution_count": 28,
   "metadata": {},
   "outputs": [],
   "source": [
    "# spliting data into train and test\n",
    "X_train, X_test, y_train, y_test = train_test_split(avg_vec, df1['label'], train_size=0.8)"
   ]
  },
  {
   "cell_type": "markdown",
   "metadata": {},
   "source": [
    "# Training Models"
   ]
  },
  {
   "cell_type": "markdown",
   "metadata": {},
   "source": [
    "## 1. SVM"
   ]
  },
  {
   "cell_type": "code",
   "execution_count": 29,
   "metadata": {},
   "outputs": [],
   "source": [
    "# Classifier - Algorithm - SVM\n",
    "# fit the training dataset on the classifier\n",
    "SVM = svm.SVC(C=1.0, kernel='linear', degree=3, gamma='auto')\n",
    "SVM.fit(X_train,y_train)\n",
    "# predict the labels on validation dataset\n",
    "predictions_SVM = SVM.predict(X_test)"
   ]
  },
  {
   "cell_type": "markdown",
   "metadata": {},
   "source": [
    "### Evalution Measures"
   ]
  },
  {
   "cell_type": "code",
   "execution_count": 30,
   "metadata": {},
   "outputs": [
    {
     "name": "stdout",
     "output_type": "stream",
     "text": [
      "              precision    recall  f1-score   support\n",
      "\n",
      "        Fake       0.93      0.96      0.94       373\n",
      "        Real       0.95      0.92      0.93       327\n",
      "\n",
      "    accuracy                           0.94       700\n",
      "   macro avg       0.94      0.94      0.94       700\n",
      "weighted avg       0.94      0.94      0.94       700\n",
      "\n",
      "SVM Accuracy Score ->  93.85714285714286\n"
     ]
    }
   ],
   "source": [
    "# Use accuracy_score and classification_report function to get the accuracy,f1-score, recall, and precision\n",
    "print(classification_report(y_test,predictions_SVM))\n",
    "print(\"SVM Accuracy Score -> \",accuracy_score(predictions_SVM, y_test)*100)"
   ]
  },
  {
   "cell_type": "markdown",
   "metadata": {},
   "source": [
    "## 2. Random Forest"
   ]
  },
  {
   "cell_type": "code",
   "execution_count": 31,
   "metadata": {},
   "outputs": [],
   "source": [
    "text_classifier = RandomForestClassifier(n_estimators=200, random_state=42)\n",
    "text_classifier.fit(X_train,y_train)\n",
    "predictions = text_classifier.predict(X_test)"
   ]
  },
  {
   "cell_type": "markdown",
   "metadata": {},
   "source": [
    "### Evalution Measures"
   ]
  },
  {
   "cell_type": "code",
   "execution_count": 32,
   "metadata": {},
   "outputs": [
    {
     "name": "stdout",
     "output_type": "stream",
     "text": [
      "              precision    recall  f1-score   support\n",
      "\n",
      "        Fake       0.95      0.92      0.94       373\n",
      "        Real       0.91      0.94      0.93       327\n",
      "\n",
      "    accuracy                           0.93       700\n",
      "   macro avg       0.93      0.93      0.93       700\n",
      "weighted avg       0.93      0.93      0.93       700\n",
      "\n",
      "RF Accuracy Score ->  93.28571428571428\n"
     ]
    }
   ],
   "source": [
    "# Use accuracy_score and classification_report function to get the accuracy,f1-score, recall, and precision\n",
    "print(classification_report(y_test,predictions))\n",
    "print(\"RF Accuracy Score -> \",accuracy_score(predictions, y_test)*100)"
   ]
  },
  {
   "cell_type": "code",
   "execution_count": null,
   "metadata": {},
   "outputs": [],
   "source": []
  }
 ],
 "metadata": {
  "kernelspec": {
   "display_name": "Python 3",
   "language": "python",
   "name": "python3"
  },
  "language_info": {
   "codemirror_mode": {
    "name": "ipython",
    "version": 3
   },
   "file_extension": ".py",
   "mimetype": "text/x-python",
   "name": "python",
   "nbconvert_exporter": "python",
   "pygments_lexer": "ipython3",
   "version": "3.7.4"
  }
 },
 "nbformat": 4,
 "nbformat_minor": 4
}
