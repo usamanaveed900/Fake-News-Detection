{
 "cells": [
  {
   "cell_type": "code",
   "execution_count": 1,
   "metadata": {},
   "outputs": [
    {
     "name": "stderr",
     "output_type": "stream",
     "text": [
      "c:\\users\\dell\\appdata\\local\\programs\\python\\python37\\lib\\site-packages\\tqdm\\std.py:706: FutureWarning: The Panel class is removed from pandas. Accessing it from the top-level namespace will also be removed in the next version\n",
      "  from pandas import Panel\n"
     ]
    }
   ],
   "source": [
    "# Libraries\n",
    "import pandas as pd\n",
    "import numpy as np\n",
    "import re\n",
    "\n",
    "import matplotlib.pyplot as plt\n",
    "import seaborn as sns\n",
    "from tqdm import tqdm\n",
    "tqdm.pandas(desc=\"progress-bar\")\n",
    "\n",
    "from bs4 import BeautifulSoup\n",
    "\n",
    "import multiprocessing\n",
    "\n",
    "# nltk:- Natural Language Processing Toolkit\n",
    "import nltk\n",
    "from nltk.corpus import stopwords\n",
    "\n",
    "from sklearn import utils\n",
    "# spliting data into train and test\n",
    "from sklearn.model_selection import train_test_split\n",
    "# For loading Doc2Vec Model\n",
    "import gensim\n",
    "from gensim.models import Doc2Vec\n",
    "from gensim.models.doc2vec import TaggedDocument\n",
    "# Training Models\n",
    "from sklearn import model_selection, svm\n",
    "from sklearn.ensemble import RandomForestClassifier\n",
    "# For Results\n",
    "from sklearn.metrics import classification_report, accuracy_score"
   ]
  },
  {
   "cell_type": "markdown",
   "metadata": {},
   "source": [
    "# Loading Dataset"
   ]
  },
  {
   "cell_type": "code",
   "execution_count": 2,
   "metadata": {},
   "outputs": [],
   "source": [
    "df = pd.read_csv('./Data/Dataset.csv', engine='python')"
   ]
  },
  {
   "cell_type": "code",
   "execution_count": 3,
   "metadata": {},
   "outputs": [],
   "source": [
    "# For Removing the garbage values at the end of the urls\n",
    "df = df.replace('\\n','', regex=True)\n",
    "df = df.replace('\\r','', regex=True)"
   ]
  },
  {
   "cell_type": "code",
   "execution_count": 4,
   "metadata": {},
   "outputs": [
    {
     "data": {
      "text/html": [
       "<div>\n",
       "<style scoped>\n",
       "    .dataframe tbody tr th:only-of-type {\n",
       "        vertical-align: middle;\n",
       "    }\n",
       "\n",
       "    .dataframe tbody tr th {\n",
       "        vertical-align: top;\n",
       "    }\n",
       "\n",
       "    .dataframe thead th {\n",
       "        text-align: right;\n",
       "    }\n",
       "</style>\n",
       "<table border=\"1\" class=\"dataframe\">\n",
       "  <thead>\n",
       "    <tr style=\"text-align: right;\">\n",
       "      <th></th>\n",
       "      <th>URLs</th>\n",
       "      <th>Headline</th>\n",
       "      <th>Body</th>\n",
       "      <th>Label</th>\n",
       "    </tr>\n",
       "  </thead>\n",
       "  <tbody>\n",
       "    <tr>\n",
       "      <th>0</th>\n",
       "      <td>http://www.bbc.com</td>\n",
       "      <td>Four ways Bob Corker skewered Donald Trump</td>\n",
       "      <td>Image copyright Getty ImagesOn Sunday morning,...</td>\n",
       "      <td>1</td>\n",
       "    </tr>\n",
       "    <tr>\n",
       "      <th>1</th>\n",
       "      <td>https://www.reuters.com</td>\n",
       "      <td>Linklater's war veteran comedy speaks to moder...</td>\n",
       "      <td>LONDON (Reuters) - ?Last Flag Flying?, a comed...</td>\n",
       "      <td>1</td>\n",
       "    </tr>\n",
       "    <tr>\n",
       "      <th>2</th>\n",
       "      <td>https://www.nytimes.com</td>\n",
       "      <td>Trump?s Fight With Corker Jeopardizes His Legi...</td>\n",
       "      <td>The feud broke into public view last week when...</td>\n",
       "      <td>1</td>\n",
       "    </tr>\n",
       "    <tr>\n",
       "      <th>3</th>\n",
       "      <td>https://www.reuters.com</td>\n",
       "      <td>Egypt's Cheiron wins tie-up with Pemex for Mex...</td>\n",
       "      <td>MEXICO CITY (Reuters) - Egypt?s Cheiron Holdin...</td>\n",
       "      <td>1</td>\n",
       "    </tr>\n",
       "    <tr>\n",
       "      <th>4</th>\n",
       "      <td>http://www.cnn.com</td>\n",
       "      <td>Jason Aldean opens 'SNL' with Vegas tribute</td>\n",
       "      <td>Country singer Jason Aldean, who was performin...</td>\n",
       "      <td>1</td>\n",
       "    </tr>\n",
       "    <tr>\n",
       "      <th>5</th>\n",
       "      <td>http://beforeitsnews.com</td>\n",
       "      <td>JetNation FanDuel League; Week 4</td>\n",
       "      <td>JetNation FanDuel League; Week 4% of readers t...</td>\n",
       "      <td>0</td>\n",
       "    </tr>\n",
       "    <tr>\n",
       "      <th>6</th>\n",
       "      <td>https://www.nytimes.com</td>\n",
       "      <td>Kansas Tried a Tax Plan Similar to Trump?s. It...</td>\n",
       "      <td>In 2012, Kansas lawmakers, led by Gov. Sam Bro...</td>\n",
       "      <td>1</td>\n",
       "    </tr>\n",
       "    <tr>\n",
       "      <th>7</th>\n",
       "      <td>https://www.reuters.com</td>\n",
       "      <td>India RBI chief: growth important, but not at ...</td>\n",
       "      <td>The Reserve Bank of India (RBI) Governor Urjit...</td>\n",
       "      <td>1</td>\n",
       "    </tr>\n",
       "    <tr>\n",
       "      <th>8</th>\n",
       "      <td>https://www.reuters.com</td>\n",
       "      <td>EPA chief to sign rule on Clean Power Plan exi...</td>\n",
       "      <td>Scott Pruitt, Administrator of the U.S. Enviro...</td>\n",
       "      <td>1</td>\n",
       "    </tr>\n",
       "    <tr>\n",
       "      <th>9</th>\n",
       "      <td>https://www.reuters.com</td>\n",
       "      <td>Talks on sale of Air Berlin planes to easyJet ...</td>\n",
       "      <td>FILE PHOTO - An Air Berlin sign is seen at an ...</td>\n",
       "      <td>1</td>\n",
       "    </tr>\n",
       "  </tbody>\n",
       "</table>\n",
       "</div>"
      ],
      "text/plain": [
       "                       URLs  \\\n",
       "0        http://www.bbc.com   \n",
       "1   https://www.reuters.com   \n",
       "2   https://www.nytimes.com   \n",
       "3   https://www.reuters.com   \n",
       "4        http://www.cnn.com   \n",
       "5  http://beforeitsnews.com   \n",
       "6   https://www.nytimes.com   \n",
       "7   https://www.reuters.com   \n",
       "8   https://www.reuters.com   \n",
       "9   https://www.reuters.com   \n",
       "\n",
       "                                            Headline  \\\n",
       "0         Four ways Bob Corker skewered Donald Trump   \n",
       "1  Linklater's war veteran comedy speaks to moder...   \n",
       "2  Trump?s Fight With Corker Jeopardizes His Legi...   \n",
       "3  Egypt's Cheiron wins tie-up with Pemex for Mex...   \n",
       "4        Jason Aldean opens 'SNL' with Vegas tribute   \n",
       "5                   JetNation FanDuel League; Week 4   \n",
       "6  Kansas Tried a Tax Plan Similar to Trump?s. It...   \n",
       "7  India RBI chief: growth important, but not at ...   \n",
       "8  EPA chief to sign rule on Clean Power Plan exi...   \n",
       "9  Talks on sale of Air Berlin planes to easyJet ...   \n",
       "\n",
       "                                                Body  Label  \n",
       "0  Image copyright Getty ImagesOn Sunday morning,...      1  \n",
       "1  LONDON (Reuters) - ?Last Flag Flying?, a comed...      1  \n",
       "2  The feud broke into public view last week when...      1  \n",
       "3  MEXICO CITY (Reuters) - Egypt?s Cheiron Holdin...      1  \n",
       "4  Country singer Jason Aldean, who was performin...      1  \n",
       "5  JetNation FanDuel League; Week 4% of readers t...      0  \n",
       "6  In 2012, Kansas lawmakers, led by Gov. Sam Bro...      1  \n",
       "7  The Reserve Bank of India (RBI) Governor Urjit...      1  \n",
       "8  Scott Pruitt, Administrator of the U.S. Enviro...      1  \n",
       "9  FILE PHOTO - An Air Berlin sign is seen at an ...      1  "
      ]
     },
     "execution_count": 4,
     "metadata": {},
     "output_type": "execute_result"
    }
   ],
   "source": [
    "df.head(10)"
   ]
  },
  {
   "cell_type": "code",
   "execution_count": 5,
   "metadata": {},
   "outputs": [
    {
     "data": {
      "text/html": [
       "<div>\n",
       "<style scoped>\n",
       "    .dataframe tbody tr th:only-of-type {\n",
       "        vertical-align: middle;\n",
       "    }\n",
       "\n",
       "    .dataframe tbody tr th {\n",
       "        vertical-align: top;\n",
       "    }\n",
       "\n",
       "    .dataframe thead th {\n",
       "        text-align: right;\n",
       "    }\n",
       "</style>\n",
       "<table border=\"1\" class=\"dataframe\">\n",
       "  <thead>\n",
       "    <tr style=\"text-align: right;\">\n",
       "      <th></th>\n",
       "      <th>URLs</th>\n",
       "      <th>Body</th>\n",
       "    </tr>\n",
       "  </thead>\n",
       "  <tbody>\n",
       "    <tr>\n",
       "      <th>0</th>\n",
       "      <td>http://www.bbc.com</td>\n",
       "      <td>Image copyright Getty ImagesOn Sunday morning,...</td>\n",
       "    </tr>\n",
       "    <tr>\n",
       "      <th>1</th>\n",
       "      <td>https://www.reuters.com</td>\n",
       "      <td>LONDON (Reuters) - ?Last Flag Flying?, a comed...</td>\n",
       "    </tr>\n",
       "    <tr>\n",
       "      <th>2</th>\n",
       "      <td>https://www.nytimes.com</td>\n",
       "      <td>The feud broke into public view last week when...</td>\n",
       "    </tr>\n",
       "    <tr>\n",
       "      <th>3</th>\n",
       "      <td>https://www.reuters.com</td>\n",
       "      <td>MEXICO CITY (Reuters) - Egypt?s Cheiron Holdin...</td>\n",
       "    </tr>\n",
       "    <tr>\n",
       "      <th>4</th>\n",
       "      <td>http://www.cnn.com</td>\n",
       "      <td>Country singer Jason Aldean, who was performin...</td>\n",
       "    </tr>\n",
       "  </tbody>\n",
       "</table>\n",
       "</div>"
      ],
      "text/plain": [
       "                      URLs                                               Body\n",
       "0       http://www.bbc.com  Image copyright Getty ImagesOn Sunday morning,...\n",
       "1  https://www.reuters.com  LONDON (Reuters) - ?Last Flag Flying?, a comed...\n",
       "2  https://www.nytimes.com  The feud broke into public view last week when...\n",
       "3  https://www.reuters.com  MEXICO CITY (Reuters) - Egypt?s Cheiron Holdin...\n",
       "4       http://www.cnn.com  Country singer Jason Aldean, who was performin..."
      ]
     },
     "execution_count": 5,
     "metadata": {},
     "output_type": "execute_result"
    }
   ],
   "source": [
    "df_sources = df[['URLs','Body']]\n",
    "df_sources.head()"
   ]
  },
  {
   "cell_type": "code",
   "execution_count": 6,
   "metadata": {},
   "outputs": [
    {
     "data": {
      "text/plain": [
       "(3678, 2)"
      ]
     },
     "execution_count": 6,
     "metadata": {},
     "output_type": "execute_result"
    }
   ],
   "source": [
    "df_sources.shape"
   ]
  },
  {
   "cell_type": "code",
   "execution_count": 7,
   "metadata": {},
   "outputs": [
    {
     "name": "stderr",
     "output_type": "stream",
     "text": [
      "c:\\users\\dell\\appdata\\local\\programs\\python\\python37\\lib\\site-packages\\seaborn\\_decorators.py:43: FutureWarning: Pass the following variables as keyword args: x, y. From version 0.12, the only valid positional argument will be `data`, and passing other arguments without an explicit keyword will result in an error or misinterpretation.\n",
      "  FutureWarning\n"
     ]
    },
    {
     "data": {
      "image/png": "[encoded data removed]",
      "text/plain": [
       "<Figure size 864x288 with 1 Axes>"
      ]
     },
     "metadata": {
      "needs_background": "light"
     },
     "output_type": "display_data"
    }
   ],
   "source": [
    "# For showing the occurences of urls in the dataset\n",
    "cnt_urls = df_sources['URLs'].value_counts()\n",
    "plt.figure(figsize=(12,4))\n",
    "sns.barplot(cnt_urls.index, cnt_urls.values, alpha=0.8)\n",
    "plt.ylabel('Number of Occurrences', fontsize=12)\n",
    "plt.xlabel('URLs', fontsize=12)\n",
    "plt.xticks(rotation=90)\n",
    "plt.show()"
   ]
  },
  {
   "cell_type": "code",
   "execution_count": 8,
   "metadata": {},
   "outputs": [
    {
     "data": {
      "text/plain": [
       "array(['http://www.bbc.com', 'https://www.reuters.com',\n",
       "       'https://www.nytimes.com', 'http://www.cnn.com',\n",
       "       'http://beforeitsnews.com', 'https://www.activistpost.com'],\n",
       "      dtype=object)"
      ]
     },
     "execution_count": 8,
     "metadata": {},
     "output_type": "execute_result"
    }
   ],
   "source": [
    "# Checking the unique values in Urls\n",
    "df_sources.URLs.unique()"
   ]
  },
  {
   "cell_type": "markdown",
   "metadata": {},
   "source": [
    "# Data Preprocessing"
   ]
  },
  {
   "cell_type": "code",
   "execution_count": 9,
   "metadata": {},
   "outputs": [],
   "source": [
    "# cleaning html symbols from the sentence\n",
    "def cleanhtml(sentence):\n",
    "    cleanr = re.compile('<.*?>')\n",
    "    cleantext = re.sub(cleanr, ' ', sentence)\n",
    "    return cleantext"
   ]
  },
  {
   "cell_type": "code",
   "execution_count": 10,
   "metadata": {},
   "outputs": [],
   "source": [
    "# cleaning punctuations from the sentence\n",
    "def cleanpunc(sentence):\n",
    "    cleaned = re.sub(r'[?|!|\\'|\"|#]',r'',sentence)\n",
    "    cleaned = re.sub(r'[.|,|)|(|\\|/]',r' ',cleaned)\n",
    "    return  cleaned"
   ]
  },
  {
   "cell_type": "code",
   "execution_count": 11,
   "metadata": {},
   "outputs": [
    {
     "name": "stderr",
     "output_type": "stream",
     "text": [
      "c:\\users\\dell\\appdata\\local\\programs\\python\\python37\\lib\\site-packages\\ipykernel_launcher.py:10: SettingWithCopyWarning: \n",
      "A value is trying to be set on a copy of a slice from a DataFrame.\n",
      "Try using .loc[row_indexer,col_indexer] = value instead\n",
      "\n",
      "See the caveats in the documentation: https://pandas.pydata.org/pandas-docs/stable/user_guide/indexing.html#returning-a-view-versus-a-copy\n",
      "  # Remove the CWD from sys.path while we load stuff.\n"
     ]
    }
   ],
   "source": [
    "def cleanText(text):\n",
    "    text = cleanhtml(str(text))\n",
    "    text = cleanpunc(str(text))\n",
    "    text = BeautifulSoup(str(text), \"lxml\").text\n",
    "    text = re.sub(r'\\|\\|\\|', r' ', text) \n",
    "    text = re.sub(r'http\\S+', r'<URL>', text)\n",
    "    text = text.lower()\n",
    "    text = text.replace('x', '')\n",
    "    return text\n",
    "df_sources['Body'] = df_sources['Body'].apply(cleanText)"
   ]
  },
  {
   "cell_type": "code",
   "execution_count": 12,
   "metadata": {},
   "outputs": [
    {
     "data": {
      "text/html": [
       "<div>\n",
       "<style scoped>\n",
       "    .dataframe tbody tr th:only-of-type {\n",
       "        vertical-align: middle;\n",
       "    }\n",
       "\n",
       "    .dataframe tbody tr th {\n",
       "        vertical-align: top;\n",
       "    }\n",
       "\n",
       "    .dataframe thead th {\n",
       "        text-align: right;\n",
       "    }\n",
       "</style>\n",
       "<table border=\"1\" class=\"dataframe\">\n",
       "  <thead>\n",
       "    <tr style=\"text-align: right;\">\n",
       "      <th></th>\n",
       "      <th>URLs</th>\n",
       "      <th>Body</th>\n",
       "    </tr>\n",
       "  </thead>\n",
       "  <tbody>\n",
       "    <tr>\n",
       "      <th>0</th>\n",
       "      <td>http://www.bbc.com</td>\n",
       "      <td>image copyright getty imageson sunday morning ...</td>\n",
       "    </tr>\n",
       "    <tr>\n",
       "      <th>1</th>\n",
       "      <td>https://www.reuters.com</td>\n",
       "      <td>london  reuters  - last flag flying  a comedy-...</td>\n",
       "    </tr>\n",
       "    <tr>\n",
       "      <th>2</th>\n",
       "      <td>https://www.nytimes.com</td>\n",
       "      <td>the feud broke into public view last week when...</td>\n",
       "    </tr>\n",
       "    <tr>\n",
       "      <th>3</th>\n",
       "      <td>https://www.reuters.com</td>\n",
       "      <td>meico city  reuters  - egypts cheiron holdings...</td>\n",
       "    </tr>\n",
       "    <tr>\n",
       "      <th>4</th>\n",
       "      <td>http://www.cnn.com</td>\n",
       "      <td>country singer jason aldean  who was performin...</td>\n",
       "    </tr>\n",
       "  </tbody>\n",
       "</table>\n",
       "</div>"
      ],
      "text/plain": [
       "                      URLs                                               Body\n",
       "0       http://www.bbc.com  image copyright getty imageson sunday morning ...\n",
       "1  https://www.reuters.com  london  reuters  - last flag flying  a comedy-...\n",
       "2  https://www.nytimes.com  the feud broke into public view last week when...\n",
       "3  https://www.reuters.com  meico city  reuters  - egypts cheiron holdings...\n",
       "4       http://www.cnn.com  country singer jason aldean  who was performin..."
      ]
     },
     "execution_count": 12,
     "metadata": {},
     "output_type": "execute_result"
    }
   ],
   "source": [
    "df_sources.head()"
   ]
  },
  {
   "cell_type": "markdown",
   "metadata": {},
   "source": [
    "## Tokenization"
   ]
  },
  {
   "cell_type": "code",
   "execution_count": 13,
   "metadata": {},
   "outputs": [],
   "source": [
    "# spliting data into train and test\n",
    "train, test = train_test_split(df_sources, test_size=0.2, random_state=42)\n",
    "def tokenize_text(text):\n",
    "    tokens = []\n",
    "    for sent in nltk.sent_tokenize(text):\n",
    "        for word in nltk.word_tokenize(sent):\n",
    "            if len(word) < 2:\n",
    "                continue\n",
    "            tokens.append(word.lower())\n",
    "    return tokens\n",
    "train_tagged = train.apply(\n",
    "    lambda r: TaggedDocument(words=tokenize_text(r['Body']), tags=[r.URLs]), axis=1)\n",
    "test_tagged = test.apply(\n",
    "    lambda r: TaggedDocument(words=tokenize_text(r['Body']), tags=[r.URLs]), axis=1)"
   ]
  },
  {
   "cell_type": "code",
   "execution_count": 14,
   "metadata": {},
   "outputs": [
    {
     "data": {
      "text/plain": [
       "TaggedDocument(words=['san', 'juan', 'mayor', 'sports', 'help', 'us', 'we', 'are', 'dying', 't-shirt', 'for', 'anti-trump', 'cnn', 'interview', 'before', 'its', 'news', 'cdn', 'url', 'www', 'conservativedailynews', 'comby', 'donn', 'martendemocrats', 'have', 'homed', 'in', 'on', 'hurricane-ravaged', 'puerto', 'rico', 'as', 'this', 'weeks', 'front', 'lines', 'in', 'their', 'endless', 'war', 'on', 'president', 'donald', 'trump', 'the', 'territory', 'was', 'busted', 'back', 'to', 'the', 'stone', 'age', 'by', 'hurricane', 'maria', 'and', 'democrat', 'surrogates', 'in', 'the', 'media', 'have', 'already', 'epressed', 'that', 'they', 'want', 'to', 'turn', 'it', 'into', 'trumps', 'katrina', 'in', 'their', 'relentless', 'quest', 'to', 'damage', 'new', 'president', 'who', 'has', 'yet', 'to', 'be', 'in', 'office', 'one', 'year', 'the', 'newest', 'anti-trump', 'figure', 'that', 'has', 'emerged', 'is', 'san', 'juan', 'mayor', 'carmen', 'yulin', 'cruz', 'who', 'during', 'an', 'interview', 'with', 'cnns', 'anderson', 'cooper', 'wore', 'black', 't-shirt', 'with', 'the', 'words', 'help', 'us', 'we', 'are', 'dying', 'emblazoned', 'across', 'the', 'front', 'it', 'is', 'unknown', 'where', 'she', 'got', 'the', 'shirt', 'but', 'considering', 'the', 'democrats', 'dirty', 'games', 'it', 'seems', 'to', 'have', 'the', 'fingerprints', 'of', 'their', 'operatives', 'all', 'over', 'it', 'that', 'is', 'if', 'she', 'didnt', 'get', 'it', 'from', 'cnn', 'itself', 'one', 'would', 'think', 'that', 'woman', 'who', 'is', 'busy', 'trying', 'to', 'save', 'lives', 'and', 'respond', 'to', 'natural', 'disaster', 'would', 'have', 'more', 'important', 'things', 'to', 'do', 'than', 'to', 'spend', 'time', 'making', 'an', 'anti-trump', 'political', 'statement', 'in', 'shirt', 'that', 'is', 'all', 'but', 'certain', 'to', 'become', 'hit', 'with', 'the', 'so-called', 'resistance', 'and', 'will', 'feed', 'weeks', 'of', 'the', 'article', 'san', 'juan', 'mayor', 'sports', 'help', 'us', 'we', 'are', 'dying', 't-shirt', 'for', 'anti-trump', 'cnn', 'interview', 'is', 'original', 'content', 'from', 'conservative', 'daily', 'news', 'cdn', 'url', 'www', 'conservativedailynews', 'comsource', 'url', 'www', 'conservativedailynews', 'com', '2017', '09', 'san-juan-mayor-sports-help-us-dying-t-shirt-for-anti-trump-cnn-interview'], tags=['http://beforeitsnews.com'])"
      ]
     },
     "execution_count": 14,
     "metadata": {},
     "output_type": "execute_result"
    }
   ],
   "source": [
    "train_tagged.values[30]"
   ]
  },
  {
   "cell_type": "code",
   "execution_count": 15,
   "metadata": {},
   "outputs": [],
   "source": [
    "# For using multiple cores while using doc2vec for feature extraction\n",
    "cores = multiprocessing.cpu_count()"
   ]
  },
  {
   "cell_type": "markdown",
   "metadata": {},
   "source": [
    "# Feature Extraction"
   ]
  },
  {
   "cell_type": "code",
   "execution_count": 16,
   "metadata": {},
   "outputs": [
    {
     "name": "stderr",
     "output_type": "stream",
     "text": [
      "100%|█████████████████████████████████████████████████████████████████████████| 2942/2942 [00:00<00:00, 1472159.67it/s]\n"
     ]
    }
   ],
   "source": [
    "model_dbow = Doc2Vec(dm=0, vector_size=500, negative=5, hs=0, min_count=2, sample = 0, workers=cores)\n",
    "model_dbow.build_vocab([x for x in tqdm(train_tagged.values)])"
   ]
  },
  {
   "cell_type": "code",
   "execution_count": 17,
   "metadata": {},
   "outputs": [
    {
     "name": "stderr",
     "output_type": "stream",
     "text": [
      "100%|█████████████████████████████████████████████████████████████████████████| 2942/2942 [00:00<00:00, 1471808.49it/s]\n",
      "100%|█████████████████████████████████████████████████████████████████████████| 2942/2942 [00:00<00:00, 1471457.47it/s]\n",
      "100%|█████████████████████████████████████████████████████████████████████████| 2942/2942 [00:00<00:00, 1471984.06it/s]\n",
      "100%|█████████████████████████████████████████████████████████████████████████| 2942/2942 [00:00<00:00, 1472511.02it/s]\n",
      "100%|█████████████████████████████████████████████████████████████████████████| 2942/2942 [00:00<00:00, 1472686.76it/s]\n",
      "100%|█████████████████████████████████████████████████████████████████████████| 2942/2942 [00:00<00:00, 1472511.02it/s]\n",
      "100%|█████████████████████████████████████████████████████████████████████████| 2942/2942 [00:00<00:00, 1471808.49it/s]\n",
      "100%|█████████████████████████████████████████████████████████████████████████| 2942/2942 [00:00<00:00, 1472686.76it/s]\n",
      "100%|█████████████████████████████████████████████████████████████████████████| 2942/2942 [00:00<00:00, 1472511.02it/s]\n",
      "100%|█████████████████████████████████████████████████████████████████████████| 2942/2942 [00:00<00:00, 1472335.33it/s]\n",
      "100%|█████████████████████████████████████████████████████████████████████████| 2942/2942 [00:00<00:00, 1472335.33it/s]\n",
      "100%|█████████████████████████████████████████████████████████████████████████| 2942/2942 [00:00<00:00, 1472511.02it/s]\n",
      "100%|█████████████████████████████████████████████████████████████████████████| 2942/2942 [00:00<00:00, 1472335.33it/s]\n",
      "100%|█████████████████████████████████████████████████████████████████████████| 2942/2942 [00:00<00:00, 2941511.89it/s]\n",
      "100%|█████████████████████████████████████████████████████████████████████████| 2942/2942 [00:00<00:00, 1472159.67it/s]\n",
      "100%|█████████████████████████████████████████████████████████████████████████| 2942/2942 [00:00<00:00, 1472511.02it/s]\n",
      "100%|█████████████████████████████████████████████████████████████████████████| 2942/2942 [00:00<00:00, 2942914.95it/s]\n",
      "100%|█████████████████████████████████████████████████████████████████████████| 2942/2942 [00:00<00:00, 1471457.47it/s]\n",
      "100%|█████████████████████████████████████████████████████████████████████████| 2942/2942 [00:00<00:00, 1471984.06it/s]\n",
      "100%|█████████████████████████████████████████████████████████████████████████| 2942/2942 [00:00<00:00, 1472511.02it/s]\n",
      "100%|█████████████████████████████████████████████████████████████████████████| 2942/2942 [00:00<00:00, 1472335.33it/s]\n",
      "100%|█████████████████████████████████████████████████████████████████████████| 2942/2942 [00:00<00:00, 1472159.67it/s]\n",
      "100%|█████████████████████████████████████████████████████████████████████████| 2942/2942 [00:00<00:00, 1472511.02it/s]\n",
      "100%|█████████████████████████████████████████████████████████████████████████| 2942/2942 [00:00<00:00, 1471984.06it/s]\n",
      "100%|█████████████████████████████████████████████████████████████████████████| 2942/2942 [00:00<00:00, 2945725.08it/s]\n",
      "100%|█████████████████████████████████████████████████████████████████████████| 2942/2942 [00:00<00:00, 2940810.86it/s]\n",
      "100%|█████████████████████████████████████████████████████████████████████████| 2942/2942 [00:00<00:00, 2941511.89it/s]\n",
      "100%|█████████████████████████████████████████████████████████████████████████| 2942/2942 [00:00<00:00, 1471984.06it/s]\n",
      "100%|█████████████████████████████████████████████████████████████████████████| 2942/2942 [00:00<00:00, 1471457.47it/s]\n",
      "100%|█████████████████████████████████████████████████████████████████████████| 2942/2942 [00:00<00:00, 1472862.54it/s]\n"
     ]
    },
    {
     "name": "stdout",
     "output_type": "stream",
     "text": [
      "Wall time: 44.4 s\n"
     ]
    }
   ],
   "source": [
    "%%time\n",
    "for epoch in range(30):\n",
    "    model_dbow.train(utils.shuffle([x for x in tqdm(train_tagged.values)]), total_examples=len(train_tagged.values), epochs=1)\n",
    "    model_dbow.alpha -= 0.002\n",
    "    model_dbow.min_alpha = model_dbow.alpha"
   ]
  },
  {
   "cell_type": "code",
   "execution_count": 18,
   "metadata": {},
   "outputs": [],
   "source": [
    "def vec_for_learning(model, tagged_docs):\n",
    "    sents = tagged_docs.values\n",
    "    targets, regressors = zip(*[(doc.tags[0], model.infer_vector(doc.words, steps=20)) for doc in sents])\n",
    "    return targets, regressors\n",
    "def vec_for_learning(model, tagged_docs):\n",
    "    sents = tagged_docs.values\n",
    "    targets, regressors = zip(*[(doc.tags[0], model.infer_vector(doc.words, steps=20)) for doc in sents])\n",
    "    return targets, regressors"
   ]
  },
  {
   "cell_type": "code",
   "execution_count": 19,
   "metadata": {},
   "outputs": [],
   "source": [
    "y_train, X_train = vec_for_learning(model_dbow, train_tagged)\n",
    "y_test, X_test = vec_for_learning(model_dbow, test_tagged)"
   ]
  },
  {
   "cell_type": "markdown",
   "metadata": {},
   "source": [
    "# Training Models"
   ]
  },
  {
   "cell_type": "markdown",
   "metadata": {},
   "source": [
    "## 1. SVM"
   ]
  },
  {
   "cell_type": "code",
   "execution_count": 20,
   "metadata": {},
   "outputs": [],
   "source": [
    "# Classifier - Algorithm - SVM\n",
    "# fit the training dataset on the classifier\n",
    "SVM = svm.SVC(C=1.0, kernel='linear', degree=3, gamma='auto')\n",
    "SVM.fit(X_train,y_train)\n",
    "# predict the labels on validation dataset\n",
    "predictions_SVM = SVM.predict(X_test)"
   ]
  },
  {
   "cell_type": "markdown",
   "metadata": {},
   "source": [
    "### Evalution Measures"
   ]
  },
  {
   "cell_type": "code",
   "execution_count": 21,
   "metadata": {},
   "outputs": [
    {
     "name": "stdout",
     "output_type": "stream",
     "text": [
      "                              precision    recall  f1-score   support\n",
      "\n",
      "    http://beforeitsnews.com       0.47      0.95      0.63       330\n",
      "          http://www.bbc.com       0.00      0.00      0.00        79\n",
      "          http://www.cnn.com       0.00      0.00      0.00        75\n",
      "https://www.activistpost.com       0.00      0.00      0.00        53\n",
      "     https://www.nytimes.com       0.00      0.00      0.00        56\n",
      "     https://www.reuters.com       0.37      0.17      0.23       143\n",
      "\n",
      "                    accuracy                           0.46       736\n",
      "                   macro avg       0.14      0.19      0.14       736\n",
      "                weighted avg       0.28      0.46      0.33       736\n",
      "\n",
      "SVM Accuracy Score ->  45.78804347826087\n"
     ]
    },
    {
     "name": "stderr",
     "output_type": "stream",
     "text": [
      "c:\\users\\dell\\appdata\\local\\programs\\python\\python37\\lib\\site-packages\\sklearn\\metrics\\_classification.py:1221: UndefinedMetricWarning: Precision and F-score are ill-defined and being set to 0.0 in labels with no predicted samples. Use `zero_division` parameter to control this behavior.\n",
      "  _warn_prf(average, modifier, msg_start, len(result))\n"
     ]
    }
   ],
   "source": [
    "# Use accuracy_score and classification_report function to get the accuracy,f1-score, recall, and precision\n",
    "print(classification_report(y_test,predictions_SVM))\n",
    "print(\"SVM Accuracy Score -> \",accuracy_score(predictions_SVM, y_test)*100)"
   ]
  },
  {
   "cell_type": "markdown",
   "metadata": {},
   "source": [
    "## 2. Random Forest"
   ]
  },
  {
   "cell_type": "code",
   "execution_count": 22,
   "metadata": {},
   "outputs": [],
   "source": [
    "text_classifier = RandomForestClassifier(n_estimators=200, random_state=42)\n",
    "text_classifier.fit(X_train, y_train)\n",
    "predictions = text_classifier.predict(X_test)"
   ]
  },
  {
   "cell_type": "markdown",
   "metadata": {},
   "source": [
    "### Evalution Measures"
   ]
  },
  {
   "cell_type": "code",
   "execution_count": 23,
   "metadata": {},
   "outputs": [
    {
     "name": "stdout",
     "output_type": "stream",
     "text": [
      "                              precision    recall  f1-score   support\n",
      "\n",
      "    http://beforeitsnews.com       0.51      0.90      0.65       330\n",
      "          http://www.bbc.com       0.23      0.08      0.11        79\n",
      "          http://www.cnn.com       0.43      0.04      0.07        75\n",
      "https://www.activistpost.com       0.00      0.00      0.00        53\n",
      "     https://www.nytimes.com       0.00      0.00      0.00        56\n",
      "     https://www.reuters.com       0.39      0.33      0.35       143\n",
      "\n",
      "                    accuracy                           0.48       736\n",
      "                   macro avg       0.26      0.22      0.20       736\n",
      "                weighted avg       0.37      0.48      0.38       736\n",
      "\n",
      "RF Accuracy Score ->  47.82608695652174\n"
     ]
    }
   ],
   "source": [
    "# Use accuracy_score and classification_report function to get the accuracy,f1-score, recall, and precision\n",
    "print(classification_report(y_test,predictions))\n",
    "print(\"RF Accuracy Score -> \",accuracy_score(predictions, y_test)*100)"
   ]
  },
  {
   "cell_type": "code",
   "execution_count": null,
   "metadata": {},
   "outputs": [],
   "source": []
  }
 ],
 "metadata": {
  "kernelspec": {
   "display_name": "Python 3",
   "language": "python",
   "name": "python3"
  },
  "language_info": {
   "codemirror_mode": {
    "name": "ipython",
    "version": 3
   },
   "file_extension": ".py",
   "mimetype": "text/x-python",
   "name": "python",
   "nbconvert_exporter": "python",
   "pygments_lexer": "ipython3",
   "version": "3.7.4"
  }
 },
 "nbformat": 4,
 "nbformat_minor": 4
}
